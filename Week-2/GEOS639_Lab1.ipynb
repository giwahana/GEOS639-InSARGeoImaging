{
 "cells": [
  {
   "cell_type": "markdown",
   "metadata": {},
   "source": [
    "<img src=\"Figs/Banner.JPG\" width=\"100%\" />\n",
    "<font face=\"Calibri\">\n",
    "<br>\n",
    "<font size=\"7\"> <b> GEOS 639 Geodetic Imaging <b> </font>\n",
    "\n",
    "<font size=\"5\"> <b> Lab 1: DEM Generation with InSAR using ISCE<font color='rgba(200,0,0,0.2)'>  -- [20 Points] </font> </b> </font>\n",
    "<br>\n",
    "<font size=\"4\" color='rgba(200,0,0,0.2)'><b>Assignment Due Date: </b> February 10, 2022 </font>\n",
    "\n",
    "<br> <img src=\"Figs/NASALogo.png\" width=\"250\" align=\"right\" /> <br> \n",
    "<font size=\"4\"> <b> Heresh Fattahi with modifications by Franz J Meyer</b> \n",
    "<font size=\"3\">  <br>\n",
    "<font> <b>Date: </b> Jan 25, 2022 </font>\n",
    "</font>\n"
   ]
  },
  {
   "cell_type": "markdown",
   "metadata": {},
   "source": [
    "<div class=\"alert alert-danger\">\n",
    "<font size=\"4\"> <font color='rgba(200,0,0,0.2)'> <b>THIS NOTEBOOK INCLUDES TWO HOMEWORK ASSIGNMENTS.</b></font> \n",
    "<br> \n",
    "<font size=\"3\"> The homework assignments in this lab are indicated by markdown fields with <font color='rgba(200,0,0,0.2)'><b>red background</b></font>. Please complete these assignments to achieve full score. </font> <br>\n",
    "\n",
    "<font size=\"3\"> To submit your homework, please download your completed Jupyter Notebook from the server both as PDF (*.pdf) and Notebook file (*.ipynb) and submit them as a ZIP bundle via the GEOS 639 Canvas page. To download, please select the following options in the main menu of the notebook interface:\n",
    "\n",
    "<ol type=\"1\">\n",
    "  <li><font color='rgba(200,0,0,0.2)'> <b> Save your notebook with all of its content</b></font> by selecting <i> File / Save and Checkpoint </i> </li>\n",
    "  <li><font color='rgba(200,0,0,0.2)'> <b>To export in Notebook format</b></font>, click the <i>radio button next to the notebook file in the main Jupyter Hub browser tab. Once clicked, a download field will appear near the top of the page.</i></li>\n",
    "  <li><font color='rgba(200,0,0,0.2)'> <b>To export in PDF format</b></font>, right-click on your browser window and print the browser content to PDF</li>\n",
    "</ol>\n",
    "\n",
    "Contact me at fjmeyer@alaska.edu should you run into any problems.\n",
    "</font>\n",
    "</font>\n",
    "</div>"
   ]
  },
  {
   "cell_type": "markdown",
   "metadata": {
    "heading_collapsed": true
   },
   "source": [
    "# Set Conda Environment"
   ]
  },
  {
   "cell_type": "code",
   "execution_count": null,
   "metadata": {
    "hidden": true
   },
   "outputs": [],
   "source": [
    "%%javascript\n",
    "var kernel = Jupyter.notebook.kernel;\n",
    "var command = [\"notebookUrl = \",\n",
    "               \"'\", window.location, \"'\" ].join('')\n",
    "kernel.execute(command)"
   ]
  },
  {
   "cell_type": "code",
   "execution_count": null,
   "metadata": {
    "hidden": true
   },
   "outputs": [],
   "source": [
    "from IPython.display import Markdown\n",
    "from IPython.display import display\n",
    "\n",
    "user = !echo $JUPYTERHUB_USER\n",
    "env = !echo $CONDA_PREFIX\n",
    "if env[0] == '':\n",
    "    env[0] = 'Python 3 (base)'\n",
    "if env[0] != '/home/jovyan/.local/envs/unavco':\n",
    "    display(Markdown(f'<text style=color:red><strong>WARNING:</strong></text>'))\n",
    "    display(Markdown(f'<text style=color:red>This notebook should be run using the \"unavco\" conda environment.</text>'))\n",
    "    display(Markdown(f'<text style=color:red>It is currently using the \"{env[0].split(\"/\")[-1]}\" environment.</text>'))\n",
    "    display(Markdown(f'<text style=color:red>Select the \"unavco\" from the \"Change Kernel\" submenu of the \"Kernel\" menu.</text>'))\n",
    "    display(Markdown(f'<text style=color:red>If the \"unavco\" environment is not present, use <a href=\"{notebookUrl.split(\"/user\")[0]}/user/{user[0]}/notebooks/conda_environments/Create_OSL_Conda_Environments.ipynb\"> Create_OSL_Conda_Environments.ipynb </a> to create it.</text>'))\n",
    "    display(Markdown(f'<text style=color:red>Note that you must restart your server after creating a new environment before it is usable by notebooks.</text>'))"
   ]
  },
  {
   "cell_type": "markdown",
   "metadata": {
    "heading_collapsed": true
   },
   "source": [
    "# Intro 1: DEM Generation using InSAR"
   ]
  },
  {
   "cell_type": "markdown",
   "metadata": {
    "hidden": true
   },
   "source": [
    "InSAR is a great apporach to generage digital elevation models (DEMs), especially in areas where frequent cloud cover limits the applicability of stereo-photogrammetry, which is using optical sensors.\n",
    "\n",
    "<img style=\"padding: 7px\" src=\"Figs/InSAR.jpg\" width=\"500\" align=\"right\" />In InSAR, we analyze the phase difference $\\phi$ between two images acquired from slightly different vantage points. The phase differencing is needed as the phase in a single SAR image is randomized by speckle. Once the phase difference (interferometric phase) was calculated, topographic information can be extracted. \n",
    "\n",
    "<b>InSAR Workflow:</b> To generate DEMs using InSAR, we will follow the InSAR processing steps we discussed in lecture #3:\n",
    " <ol>\n",
    "  <li>Image co-registration (this needs to be done very precisely to make sure that the phase noise patterns (see image) in the two InSAR parners are perfectly aligned)</li>\n",
    "  <li>Interferogram formation (i.e., phase difference calculation)</li>\n",
    " <li>Removal of all known phase patterns $\\rightarrow$ this will make phase unwrapping simpler (we will subtract the flat earth phase <i>and</i> an already known DEM).</li>\n",
    " <li>Phase filtering - this is a spatial smoothing process to reduce phase noise $\\rightarrow$ improves phase unwrapping performance.</li>\n",
    " <li>Phase unwrapping (using a Minimum-Cost-Flow Algorithm).</li>\n",
    " <li>Geocoding and phase-to-height conversion.</li>\n",
    "</ol> \n",
    "\n",
    "\n",
    "<b>InSAR Performance Considerations:</b> As was discussed in the lectures, DEM generation from InSAR data provides highest quality information if the following conditions are met:\n",
    "    \n",
    " <ol>\n",
    "  <li>The InSAR pair has a sufficiently large spatial baseline.</li>\n",
    "  <li>The temporal separation of image partners is small enough to warrant sufficient coherence.</li>\n",
    " <li>The temporal baseline is small enough to reduce potential impacts from surface deformation on the interferometric phase.</li>\n",
    "</ol> \n",
    "\n",
    "Outside of the TanDEM-X sensor constellation discussed in the lecture, not many satellite platforms meet these conditions well. Here we process a pair of ALOS PALSAR images acquired over Okmok volcano with the goal of DEM mapping. \n",
    "    \n",
    " The <a href=\"https://asf.alaska.edu/data-sets/sar-data-sets/alos-palsar/\" target=\"_blank\">ALOS PALSAR</a> mission is another good option as it created InSAR pairs with long spatial baselines. The L-band wavelength also ensures that the InSAR coherence is comparatively high. \n",
    "    \n",
    "That being said, a downside of ALOS PALSAR is that the temporal baselines of available InSAR pairs is often rather long. So there may be deformation information hiding in the InSAR phase."
   ]
  },
  {
   "cell_type": "markdown",
   "metadata": {
    "heading_collapsed": true
   },
   "source": [
    "# Intro 2: About Stripmap Data"
   ]
  },
  {
   "cell_type": "markdown",
   "metadata": {
    "hidden": true
   },
   "source": [
    "In conventional stripmap Synthetic Aperture Radar(SAR) imaging mode, the radar antenna is fixed to a specific direction, illuminating a single swath of the scene with a fixed squint angle (i.e., the angle between the radar beam and the cross-track direction). The imaging swath width can be increased using the scanning SAR (ScanSAR) or Terrain Observation by Progressive Scan(TOPS). In this notebook we focus on interferometric processing of stripmap data using stripmapApp.py. \n",
    "\n",
    "The stripmap mode has been used by sevreal SAR missions, such as Envisat, ERS, RadarSAT-1, Radarsat-2, ALOS-1, Cosmo Sky-Med and TerraSAR-X. Although Sentinel-1 A/B and ALOS-2 are capable of acuqiring SAR data with stripmap mode, their operational imaging modes are TOPS and ScanSAR respectively. Both missions have been acquiring stripmap data over certain regions.\n",
    "\n",
    "For processing TOPS data using topsApp, please see the topsApp notebook. However, we recommend that new InSAR users may start with the stripmapApp notebook first, and then try the topsApp notebook. \n",
    "\n",
    "The detailed algorithms for stripmap processing and TOPS processing implemented in ISCE software can be found in the following literatures:\n",
    "\n",
    "### stripmapApp:\n",
    "\n",
    "H. Fattahi, M. Simons, and P. Agram,  \"InSAR Time-Series Estimation of the Ionospheric Phase Delay: An Extension of the Split Range-Spectrum Technique\", IEEE Trans. Geosci. Remote Sens., vol. 55, no. 10, 5984-5996, 2017.\n",
    "(https://ieeexplore.ieee.org/abstract/document/7987747/)\n",
    "\n",
    "### topsApp:\n",
    "\n",
    "H. Fattahi, P. Agram, and M. Simons, “A network-based enhanced spectral diversity approach for TOPS time-series analysis,” IEEE Trans. Geosci. Remote Sens., vol. 55, no. 2, pp. 777–786, Feb. 2017. (https://ieeexplore.ieee.org/abstract/document/7637021/)\n",
    "\n",
    "### ISCE framework:\n",
    "Rosen et al, IGARSS 2018 [Complete reference here] \n",
    "\n",
    "![title](Figs/Stripmap_Tops.png)\n",
    "\n",
    "(Figure from Fattahi et. al., 2017)"
   ]
  },
  {
   "cell_type": "markdown",
   "metadata": {
    "heading_collapsed": true
   },
   "source": [
    "# stripmapApp, a General Overview"
   ]
  },
  {
   "cell_type": "markdown",
   "metadata": {
    "hidden": true
   },
   "source": [
    "stripmapApp.py is an ISCE application, designed for interferometric processing of SAR data acquired with stripmap mode onboard platforms with precise orbits. The main features of stripmapApp includes the following:\n",
    "\n",
    "#### a) Focusing RAW data:\n",
    "\n",
    "If processing starts from RAW data, JPL's ROI software is used for focusing the raw data to SLC(Single Look Complex) SAR images. If data are provided in an already focused SLC format, this step will be skipped.\n",
    "\n",
    "#### b) Interferometric processing of SLCs  \n",
    "Interferograms will be formed from the focused SLCs using the following steps\n",
    "\n",
    "#### c) Coregistration using SAR acquisition geometry (Orbit + DEM) \n",
    "The geometry module of ISCE is used for coregistration of SAR images, i.e., range and azimuth offsets are computed for each pixel using SAR acquisition geometry, orbit information and an existing Digital Elevation Model(DEM). The geometrical offsets are refined with a small constant shift in range and azimuth directions. The constant shifts are estimated using incoherent cross-correlation of the two SAR images already coregistered using pure geometrical information. \n",
    "\n",
    "#### d) More optional precise coregistration step\n",
    "An optional step called \"rubbersheeting\" is available for more precise coregistration. If \"rubbersheeting\" is requested, a dense azimuth offsets is computed using incoherent cross-correlation between the two SAR images, and is added to the geometrical offsets for more precise coregistration. Rubbersheeting may be required if SAR images are affected by ionospheric scintillation. \n",
    "\n",
    "#### e) Ionospheric phase estimation\n",
    "Split Range-Spectrum technique and ionospheric phase estimation are available as optional processing steps.\n",
    "\n"
   ]
  },
  {
   "cell_type": "markdown",
   "metadata": {
    "heading_collapsed": true
   },
   "source": [
    "# Prepare directories, download raw data"
   ]
  },
  {
   "cell_type": "markdown",
   "metadata": {
    "heading_collapsed": true,
    "hidden": true
   },
   "source": [
    "## Importing Python Libraries and Setting up Environment Variables "
   ]
  },
  {
   "cell_type": "code",
   "execution_count": null,
   "metadata": {
    "hidden": true,
    "scrolled": true
   },
   "outputs": [],
   "source": [
    "# If you want to use the staged data on S3 bucket, change this flag to True. \n",
    "# when the falg is False, the notebook downloads the ALOS raw data from ASF and \n",
    "# ISCE automatically downloads an SRTM DEM for processing\n",
    "Use_Staged_Data = True\n",
    "import os\n",
    "import numpy as np\n",
    "import matplotlib.pyplot as plt\n",
    "from osgeo import gdal   \n",
    "import shutil\n",
    "from tqdm import tqdm\n",
    "import urllib.request\n",
    "\n",
    "import isce\n",
    "import isceobj.StripmapProc.StripmapProc as St\n",
    "from isceobj.Planet.Planet import Planet\n",
    "\n",
    "\n",
    "#\n",
    "ASF_USER = \" \"\n",
    "ASF_PASS = \" \"\n",
    "\n",
    "# the working directory:\n",
    "home_dir = os.path.join(os.getenv(\"HOME\"), \"work\")\n",
    "PROCESS_DIR = os.path.join(home_dir, \"Okmok\")\n",
    "DATA_DIR =  os.path.join(PROCESS_DIR, \"data\")\n",
    "\n",
    "\n",
    "# if the ASF user/pass is not provided above, try to read it from ~/.netrc file\n",
    "if (len(ASF_PASS)==0 | len(ASF_USER)==0) & (os.path.exists(os.path.join(os.getenv(\"HOME\"), \".netrc\"))):\n",
    "    netrc_path = os.path.join(os.getenv(\"HOME\"), \".netrc\")\n",
    "    print('Hello')\n",
    "    count = len(open(netrc_path).readlines(  ))\n",
    "    if count == 1:\n",
    "        file = open(os.path.join(os.getenv(\"HOME\"), \".netrc\"), \"r\")\n",
    "        contents = file.read().split(\" \")\n",
    "        ASF_USER = contents[3]\n",
    "        ASF_PASS = contents[5]\n",
    "        file.close()\n",
    "    else:\n",
    "        ASF_USER = np.loadtxt(os.path.join(os.getenv(\"HOME\"), \".netrc\"), skiprows=1, usecols=1, dtype=str)[0]\n",
    "        ASF_PASS = np.loadtxt(os.path.join(os.getenv(\"HOME\"), \".netrc\"), skiprows=1, usecols=1, dtype=str)[1]\n",
    "\n",
    "if (len(ASF_PASS)==0 | len(ASF_USER)==0) | (not os.path.exists(os.path.join(os.getenv(\"HOME\"), \".netrc\"))) :\n",
    "    print(\"WARNING: The ASF USER pass needs to be included in ~/.netrc file.\")\n",
    "    print(\" The ~/.netrc file does not exixt or is not setup properly.\")\n",
    "    print(\"Follow this link for instructions on setting up your ~/.netrc file\")\n",
    "    print(\"\"\"If you wish to download the data from ASF please make sure: \n",
    "             1) you have valid earthdata login and password stored in your ~/.netrc file\n",
    "             2) make sure that you have logged into ASF vertex page and have accepted the EULA agreement.\"\"\")\n",
    "    print(\"Without further actions you will still be able to run this notebook using already available data on S3 bucket.\")\n",
    "    print(\"Using data on S3 bucket ...\")\n",
    "    Use_Staged_Data = True\n",
    "\n",
    "if Use_Staged_Data:\n",
    "    print(\"Using the staged data for this notebook has been turned on.\")"
   ]
  },
  {
   "cell_type": "code",
   "execution_count": null,
   "metadata": {
    "hidden": true
   },
   "outputs": [],
   "source": [
    "def configure_inputs(outDir, Use_Staged_Data): \n",
    "\n",
    "    \"\"\"Wraite Configuration files for ISCE2 stripmapApp to process NISAR sample products\"\"\"\n",
    "    cmd_reference_config = '''<component>\n",
    "    <property name=\"IMAGEFILE\">\n",
    "       <value>[data/20080822/ALPSRP137311060-L1.0/IMG-HH-ALPSRP137311060-H1.0__A]</value>\n",
    "    </property>\n",
    "    <property name=\"LEADERFILE\">\n",
    "        <value>[data/20080822/ALPSRP137311060-L1.0/LED-ALPSRP137311060-H1.0__A]</value>\n",
    "    </property>\n",
    "    <property name=\"OUTPUT\">\n",
    "        <value>20080822</value>\n",
    "    </property>\n",
    "</component>'''\n",
    "\n",
    "    print(\"writing reference.xml\")\n",
    "    with open(os.path.join(outDir,\"reference.xml\"), \"w\") as fid:\n",
    "        fid.write(cmd_reference_config)\n",
    "    \n",
    "    cmd_secondary_config = '''<component>\n",
    "    <property name=\"IMAGEFILE\">\n",
    "        <value>[data/20081007/ALPSRP144021060-L1.0/IMG-HH-ALPSRP144021060-H1.0__A]</value>\n",
    "    </property>\n",
    "    <property name=\"LEADERFILE\">\n",
    "        <value>[data/20081007/ALPSRP144021060-L1.0/LED-ALPSRP144021060-H1.0__A]</value>\n",
    "    </property>\n",
    "    <property name=\"OUTPUT\">\n",
    "        <value>20081007</value>\n",
    "    </property>\n",
    "\n",
    "</component>'''\n",
    "    \n",
    "    print(\"writing secondary.xml\")\n",
    "    with open(os.path.join(outDir,\"secondary.xml\"), \"w\") as fid:\n",
    "        fid.write(cmd_secondary_config)\n",
    "\n",
    "    if Use_Staged_Data:\n",
    "        cmd_stripmap_config = '''<?xml version=\"1.0\" encoding=\"UTF-8\"?>\n",
    "<stripmapApp>\n",
    "  <component name=\"insar\">\n",
    "    <property name=\"sensor name\">ALOS</property>\n",
    "    <component name=\"reference\">\n",
    "        <catalog>reference.xml</catalog>\n",
    "    </component>\n",
    "    <component name=\"secondary\">\n",
    "        <catalog>secondary.xml</catalog>\n",
    "    </component>\n",
    "\n",
    "    <property name=\"demFilename\">\n",
    "        <value>demLat_N52_N55_Lon_W169_W167.dem.wgs84</value>\n",
    "    </property>\n",
    "\n",
    "    <property name=\"unwrapper name\">icu</property>\n",
    "\n",
    "    <property name=\"do split spectrum\">False</property>\n",
    "\n",
    "    <property name=\"do dispersive\">False</property>\n",
    "\n",
    "</component>\n",
    "</stripmapApp>'''\n",
    "    else:\n",
    "            \n",
    "        cmd_stripmap_config = '''<?xml version=\"1.0\" encoding=\"UTF-8\"?>\n",
    "<stripmapApp>\n",
    "  <component name=\"insar\">\n",
    "    <property name=\"sensor name\">ALOS</property>\n",
    "    <component name=\"reference\">\n",
    "        <catalog>reference.xml</catalog>\n",
    "    </component>\n",
    "    <component name=\"secondary\">\n",
    "        <catalog>secondary.xml</catalog>\n",
    "    </component>\n",
    "\n",
    "    <!--\n",
    "    <property name=\"demFilename\">\n",
    "        <value>demLat_N52_N55_Lon_W169_W167.dem.wgs84</value>\n",
    "    </property>\n",
    "    -->\n",
    "\n",
    "    <property name=\"unwrapper name\">icu</property>\n",
    "\n",
    "    <property name=\"do split spectrum\">False</property>\n",
    "\n",
    "    <property name=\"do dispersive\">False</property>\n",
    "\n",
    "</component>\n",
    "</stripmapApp>'''\n",
    "\n",
    "    print(\"writing stripmapApp.xml\")\n",
    "    with open(os.path.join(outDir,\"stripmapApp.xml\"), \"w\") as fid:\n",
    "        fid.write(cmd_stripmap_config)"
   ]
  },
  {
   "cell_type": "markdown",
   "metadata": {
    "hidden": true
   },
   "source": [
    "Check if the PROCESS_DIR and DATA_DIR already exist. If they don't exist, we create them:"
   ]
  },
  {
   "cell_type": "code",
   "execution_count": null,
   "metadata": {
    "hidden": true,
    "scrolled": true
   },
   "outputs": [],
   "source": [
    "if not os.path.exists(PROCESS_DIR):\n",
    "    print(\"create \", PROCESS_DIR)\n",
    "    os.makedirs(PROCESS_DIR)\n",
    "else:\n",
    "    print(PROCESS_DIR, \" already exists!\")\n",
    "\n",
    "if not os.path.exists(DATA_DIR):\n",
    "    print(\"create \", DATA_DIR)\n",
    "    os.makedirs(DATA_DIR)\n",
    "else:\n",
    "    print(DATA_DIR, \" already exists!\")\n",
    "\n",
    "\n",
    "os.chdir(DATA_DIR)"
   ]
  },
  {
   "cell_type": "markdown",
   "metadata": {
    "heading_collapsed": true,
    "hidden": true
   },
   "source": [
    "## Area of Interest for this Lab"
   ]
  },
  {
   "cell_type": "markdown",
   "metadata": {
    "hidden": true
   },
   "source": [
    "In this tutorial we will process two ALOS1 PALSAR acquistions over Umnak Island in the Aleutians, Alaska. The two acquisitions cover Okmok Volcano right after its eruption in June 2008.\n",
    "![title](Figs/Okmok.JPG)"
   ]
  },
  {
   "cell_type": "markdown",
   "metadata": {
    "heading_collapsed": true,
    "hidden": true
   },
   "source": [
    "## Downloading and Unzipping of SAR RAW Data"
   ]
  },
  {
   "cell_type": "markdown",
   "metadata": {
    "hidden": true
   },
   "source": [
    "Download two ALOS-1 acquistions from ASF using the following command:\n"
   ]
  },
  {
   "cell_type": "code",
   "execution_count": null,
   "metadata": {
    "hidden": true
   },
   "outputs": [],
   "source": [
    "if Use_Staged_Data:\n",
    "    # Check if a stage file from S3 already exist, if not try and download it\n",
    "    if not os.path.isfile('ALPSRP137311060-L1.0.zip'):\n",
    "        !aws --region=us-east-1 --no-sign-request s3 cp s3://asf-jupyter-data/ALPSRP137311060-L1.0.zip ALPSRP137311060-L1.0.zip\n",
    "\n",
    "    if not os.path.isfile('ALPSRP144021060-L1.0.zip'):\n",
    "        !aws --region=us-east-1 --no-sign-request s3 cp s3://asf-jupyter-data/ALPSRP144021060-L1.0.zip ALPSRP144021060-L1.0.zip\n",
    "\n",
    "else:\n",
    "    print(\"Will not be using S3 pre-staged data, Data will be downloaded from ASF\")\n",
    "    cmd = \"wget  https://datapool.asf.alaska.edu/L1.0/A3/ALPSRP137311060-L1.0.zip --user={0} --password={1}\".format(ASF_USER, ASF_PASS)\n",
    "    if not os.path.exists(os.path.join(DATA_DIR, \"ALPSRP137311060-L1.0.zip\")):\n",
    "        os.system(cmd)\n",
    "    else:\n",
    "        print(\"ALPSRP137311060-L1.0.zip already exists\")\n",
    "    \n",
    "    cmd = \"wget  https://datapool.asf.alaska.edu/L1.0/A3/ALPSRP144021060-L1.0.zip --user={0} --password={1}\".format(ASF_USER, ASF_PASS)\n",
    "    if not os.path.exists(os.path.join(DATA_DIR, \"ALPSRP144021060-L1.0.zip\")):\n",
    "        os.system(cmd)\n",
    "    else:\n",
    "        print(\"ALPSRP144021060-L1.0.zip already exists\")"
   ]
  },
  {
   "cell_type": "markdown",
   "metadata": {
    "hidden": true
   },
   "source": [
    "unzip the downloaded files"
   ]
  },
  {
   "cell_type": "code",
   "execution_count": null,
   "metadata": {
    "hidden": true,
    "scrolled": true
   },
   "outputs": [],
   "source": [
    "if not os.path.exists(os.path.join(DATA_DIR, \"ALPSRP137311060-L1.0\")):\n",
    "    !unzip ALPSRP137311060-L1.0.zip\n",
    "                               \n",
    "if not os.path.exists(os.path.join(DATA_DIR, \"ALPSRP144021060-L1.0\")):\n",
    "    !unzip ALPSRP144021060-L1.0.zip"
   ]
  },
  {
   "cell_type": "markdown",
   "metadata": {
    "hidden": true
   },
   "source": [
    " looking at the unzipped directories there are multiple files:"
   ]
  },
  {
   "cell_type": "code",
   "execution_count": null,
   "metadata": {
    "hidden": true,
    "scrolled": true
   },
   "outputs": [],
   "source": [
    "ls ALPSRP137311060-L1.0"
   ]
  },
  {
   "cell_type": "markdown",
   "metadata": {
    "hidden": true
   },
   "source": [
    "When you download PALSAR data from a data provider, each frame comprises an image data file and an image leader file, as well as possibly some other ancillary files that are not used by ISCE.  \n",
    "\n",
    "Files with IMG as prefix are images. \n",
    "Files with LED as prefix are leaders. \n",
    "\n",
    "The leader file contains parameters of the sensor that are relevant to the imaging mode, all the information necessary to process the data.  The data file contains the raw data samples if Level 1.0 raw data (this is just a different name from what other satellites call Level 0) and processed imagery if Level 1.1 or 1.5 image data.  The naming convention for these files is standardized across data archives, and has the following taxonomy:\n",
    "\n",
    "\n",
    "![title](Figs/ALOS1_PALSAR.png)\n"
   ]
  },
  {
   "cell_type": "markdown",
   "metadata": {
    "hidden": true
   },
   "source": [
    "To see the acquisition date of this PALSAR acquisition we can look at the following file:"
   ]
  },
  {
   "cell_type": "code",
   "execution_count": null,
   "metadata": {
    "hidden": true,
    "scrolled": true
   },
   "outputs": [],
   "source": [
    "!cat ALPSRP137311060-L1.0/ALPSRP137311060.l0.workreport"
   ]
  },
  {
   "cell_type": "code",
   "execution_count": null,
   "metadata": {
    "hidden": true,
    "scrolled": true
   },
   "outputs": [],
   "source": [
    "!grep Img_SceneCenterDateTime ALPSRP137311060-L1.0/ALPSRP137311060.l0.workreport\n",
    "!grep Img_SceneCenterDateTime ALPSRP144021060-L1.0/ALPSRP144021060.l0.workreport"
   ]
  },
  {
   "cell_type": "markdown",
   "metadata": {
    "hidden": true
   },
   "source": [
    "for clarity let's create two directories for the two acquisition dates and move the unziped folders there:"
   ]
  },
  {
   "cell_type": "code",
   "execution_count": null,
   "metadata": {
    "hidden": true,
    "scrolled": true
   },
   "outputs": [],
   "source": [
    "if not os.path.exists('/home/jovyan/work/Okmok/data/20080822'):\n",
    "    os.mkdir('/home/jovyan/work/Okmok/data/20080822')\n",
    "if not os.path.exists('/home/jovyan/work/Okmok/data/20081007'):\n",
    "    os.mkdir('/home/jovyan/work/Okmok/data/20081007')\n",
    "\n",
    "if not os.path.exists('/home/jovyan/work/Okmok/data/20080822/ALPSRP137311060-L1.0'): \n",
    "    shutil.move('/home/jovyan/work/Okmok/data/ALPSRP137311060-L1.0',\n",
    "               '/home/jovyan/work/Okmok/data/20080822')\n",
    "if not os.path.exists('/home/jovyan/work/Okmok/data/20081007/ALPSRP144021060-L1.0'):\n",
    "    shutil.move('/home/jovyan/work/Okmok/data/ALPSRP144021060-L1.0',\n",
    "               '/home/jovyan/work/Okmok/data/20081007')"
   ]
  },
  {
   "cell_type": "markdown",
   "metadata": {
    "hidden": true
   },
   "source": [
    "Now that we have the data ready let's cd to the main PROCESS directroy"
   ]
  },
  {
   "cell_type": "code",
   "execution_count": null,
   "metadata": {
    "hidden": true,
    "scrolled": true
   },
   "outputs": [],
   "source": [
    "os.chdir(PROCESS_DIR)"
   ]
  },
  {
   "cell_type": "markdown",
   "metadata": {
    "hidden": true
   },
   "source": [
    "To make sure where we are, run pwd:"
   ]
  },
  {
   "cell_type": "code",
   "execution_count": null,
   "metadata": {
    "hidden": true,
    "scrolled": true
   },
   "outputs": [],
   "source": [
    "!pwd"
   ]
  },
  {
   "cell_type": "markdown",
   "metadata": {
    "heading_collapsed": true
   },
   "source": [
    "# Setting up Input xml Files for Processing with stripmapApp"
   ]
  },
  {
   "cell_type": "markdown",
   "metadata": {
    "hidden": true
   },
   "source": [
    "Create the input configuration files (refernce.xml, secondary.xml, stripmapApp.xml) to configure the inputs and the processing parameters.\n",
    "The configurations files can be created using your favorit editor or by calling the \"configure\" funstion which is defined at the top of this notebook:\n"
   ]
  },
  {
   "cell_type": "code",
   "execution_count": null,
   "metadata": {
    "hidden": true
   },
   "outputs": [],
   "source": [
    "if Use_Staged_Data:\n",
    "    # Check if a stage file from S3 already exist, if not try and download it\n",
    "    if not os.path.isfile('demLat_N52_N55_Lon_W169_W167.dem.wgs84'):\n",
    "        !aws --region=us-east-1 --no-sign-request s3 cp s3://asf-jupyter-data/demLat_N52_N55_Lon_W169_W167.dem.wgs84 demLat_N52_N55_Lon_W169_W167.dem.wgs84\n",
    "        !aws --region=us-east-1 --no-sign-request s3 cp s3://asf-jupyter-data/demLat_N52_N55_Lon_W169_W167.dem.wgs84.vrt demLat_N52_N55_Lon_W169_W167.dem.wgs84.vrt\n",
    "        !aws --region=us-east-1 --no-sign-request s3 cp s3://asf-jupyter-data/demLat_N52_N55_Lon_W169_W167.dem.wgs84.xml demLat_N52_N55_Lon_W169_W167.dem.wgs84.xml\n",
    "    else:\n",
    "        print(\"The DEM already exists\")\n",
    "else:\n",
    "    print(\"Will not be using S3 pre-staged data, The DEM will be automatically downloaded by ISCE\")\n",
    "    "
   ]
  },
  {
   "cell_type": "code",
   "execution_count": null,
   "metadata": {
    "hidden": true
   },
   "outputs": [],
   "source": [
    "configure_inputs(PROCESS_DIR, Use_Staged_Data)"
   ]
  },
  {
   "cell_type": "markdown",
   "metadata": {
    "hidden": true
   },
   "source": [
    "Here is an example refernce.xml file for this tutorial:"
   ]
  },
  {
   "cell_type": "markdown",
   "metadata": {
    "heading_collapsed": true,
    "hidden": true
   },
   "source": [
    "### reference.xml"
   ]
  },
  {
   "cell_type": "markdown",
   "metadata": {
    "hidden": true
   },
   "source": [
    "```xml\n",
    "<component>\n",
    "    <property name=\"IMAGEFILE\">\n",
    "       <value>[data/20080822/ALPSRP137311060-L1.0/IMG-HH-ALPSRP137311060-H1.0__D]</value>\n",
    "    </property>\n",
    "    <property name=\"LEADERFILE\">\n",
    "        <value>[data/20080822/ALPSRP137311060-L1.0/LED-ALPSRP137311060-H1.0__D]</value>\n",
    "    </property>\n",
    "    <property name=\"OUTPUT\">\n",
    "        <value>20080822</value>\n",
    "    </property>\n",
    "</component>\n",
    "```"
   ]
  },
  {
   "cell_type": "markdown",
   "metadata": {
    "heading_collapsed": true,
    "hidden": true
   },
   "source": [
    "### secondary.xml"
   ]
  },
  {
   "cell_type": "markdown",
   "metadata": {
    "hidden": true
   },
   "source": [
    "```xml\n",
    "<component>\n",
    "    <property name=\"IMAGEFILE\">\n",
    "        <value>[data/20110306/ALPSRP144021060-L1.0/IMG-HH-ALPSRP144021060-H1.0__D]</value>\n",
    "    </property>\n",
    "    <property name=\"LEADERFILE\">\n",
    "        <value>[data/20110306/ALPSRP144021060-L1.0/LED-ALPSRP144021060-H1.0__D]</value>\n",
    "    </property>\n",
    "    <property name=\"OUTPUT\">\n",
    "        <value>20110306</value>\n",
    "    </property>\n",
    "\n",
    "</component>\n",
    "```"
   ]
  },
  {
   "cell_type": "markdown",
   "metadata": {
    "heading_collapsed": true,
    "hidden": true
   },
   "source": [
    "### stripmapApp.xml\n",
    "\n"
   ]
  },
  {
   "cell_type": "markdown",
   "metadata": {
    "hidden": true
   },
   "source": [
    "```xml\n",
    "<?xml version=\"1.0\" encoding=\"UTF-8\"?>\n",
    "<stripmapApp>\n",
    "  <component name=\"insar\">\n",
    "    <property name=\"sensor name\">ALOS</property>\n",
    "    <component name=\"reference\">\n",
    "        <catalog>refernce.xml</catalog>\n",
    "    </component>\n",
    "    <component name=\"secondary\">\n",
    "        <catalog>secondary.xml</catalog>\n",
    "    </component>\n",
    "\n",
    "    <!--  \n",
    "    <property name=\"demFilename\">\n",
    "        <value>demLat_N52_N55_Lon_W169_W167.dem.wgs84.wgs84</value>\n",
    "    </property>\n",
    "    -->\n",
    "      \n",
    "    <property name=\"unwrapper name\">icu</property>\n",
    "     \n",
    "</component>\n",
    "</stripmapApp>\n",
    "```"
   ]
  },
  {
   "cell_type": "markdown",
   "metadata": {
    "hidden": true
   },
   "source": [
    "<br>\n",
    "<div class=\"alert alert-info\">\n",
    "<b>Note :</b> \n",
    "\n",
    "In this example, demFilename is commented out in the stripmapApp.xml. This means that user has not specified the DEM. Therefore, isce looks online and download the SRTM dem.\n",
    "\n",
    "</div>\n"
   ]
  },
  {
   "cell_type": "markdown",
   "metadata": {
    "hidden": true
   },
   "source": [
    "After downloading the data to process, and setting up the input xml files, we are ready to start processing with stripmapApp. To see a full list of the processing steps run the following command:"
   ]
  },
  {
   "cell_type": "code",
   "execution_count": null,
   "metadata": {
    "hidden": true,
    "scrolled": false
   },
   "outputs": [],
   "source": [
    "!stripmapApp.py --help --steps"
   ]
  },
  {
   "cell_type": "markdown",
   "metadata": {
    "heading_collapsed": true
   },
   "source": [
    "# Creating an Interferogram with stripmapApp"
   ]
  },
  {
   "cell_type": "markdown",
   "metadata": {
    "hidden": true
   },
   "source": [
    "By default, stripmapApp includes the following processing steps to generate a geocoded interferogram from raw data or SLC images:\n",
    "\n",
    " <ol>\n",
    "  <li><b>Data Preparation</b> [Steps: <i>startup</i>, <i>preprocess</i>, <i>cropraw</i>]</li>\n",
    "  <li><b>SLC Formation</b> [Steps: <i>formslc</i>]</li>\n",
    "  <li><b>DEM Assisted Co-Registration</b> [Steps: <i>verifyDEM</i>, <i>topo</i>, <i>geo2rdr</i>, <i>coarse_resample</i>, <i>misregistration</i>, <i>refined_resample</i>]</li>\n",
    "    <li><b>Interferogram Formation</b> [Steps: <i>interferogram</i>]</li>\n",
    "    <li><b>Phase Filtering and Phase Unwrapping</b> [Steps: <i>filter</i>, <i>unwrap</i>]</li>\n",
    "    <li><b>Geocoding and Phase2Height Conversion</b> [Steps: <i>geocode</i>]</li>\n",
    "</ol> \n",
    "<br>\n",
    "In this tutorial we will process the interferogram step-by-step.\n",
    "\n",
    "<br>\n",
    "<div class=\"alert alert-info\">\n",
    "<b>At the end of each step, you will see a mesage showing the remaining steps:</b> \n",
    "\n",
    "The remaining steps are (in order):  [.....]\n",
    "</div>\n",
    "\n",
    "\n",
    "<div class=\"alert alert-info\">\n",
    "<b>Note that you can process the interferogram with one command:</b> \n",
    "\n",
    "```stripmapApp.py stripmapApp.xml --start=startup --end=endup```\n",
    "\n",
    "</div>"
   ]
  },
  {
   "cell_type": "markdown",
   "metadata": {
    "heading_collapsed": true,
    "hidden": true
   },
   "source": [
    "## Data Preparation: "
   ]
  },
  {
   "cell_type": "markdown",
   "metadata": {
    "heading_collapsed": true,
    "hidden": true
   },
   "source": [
    "### Step: <i>preprocess</i>"
   ]
  },
  {
   "cell_type": "code",
   "execution_count": null,
   "metadata": {
    "hidden": true,
    "scrolled": true
   },
   "outputs": [],
   "source": [
    "!stripmapApp.py stripmapApp.xml --start=startup --end=preprocess"
   ]
  },
  {
   "cell_type": "markdown",
   "metadata": {
    "hidden": true
   },
   "source": [
    "By the end of \"preprocess\", the following folders are created:\n",
    "\n",
    "20080822_raw\n",
    "\n",
    "20081007_raw\n",
    "\n",
    "If you look into one of these folders:"
   ]
  },
  {
   "cell_type": "code",
   "execution_count": null,
   "metadata": {
    "hidden": true,
    "scrolled": true
   },
   "outputs": [],
   "source": [
    "ls 20080822_raw"
   ]
  },
  {
   "cell_type": "markdown",
   "metadata": {
    "hidden": true
   },
   "source": [
    "20080822.raw contains the raw data (I/Q real and imaginary parts of each pulse, sampled along track (azimuth direction) with Pulse Repitition Frequency (PRF) and across track(range direction) with Range Sampling Frequency. stripmapApp currently only handles data acquired (or resampled) to a constant PRF. "
   ]
  },
  {
   "cell_type": "markdown",
   "metadata": {
    "heading_collapsed": true,
    "hidden": true
   },
   "source": [
    "### Step: <i>cropraw</i>"
   ]
  },
  {
   "cell_type": "markdown",
   "metadata": {
    "hidden": true
   },
   "source": [
    "The \"cropraw\" step would crop the raw data based on the region of interest if it was requested in the stripmapApp.xml. The region of interest can be added to stripmapApp.xml as:\n",
    "```xml\n",
    "<property name=\"regionOfInterest\">[19.0, 19.9, -155.4, -154.7]</property>\n",
    "```"
   ]
  },
  {
   "cell_type": "markdown",
   "metadata": {
    "hidden": true
   },
   "source": [
    "Since we have not specified the region of interest, then \"cropraw\" will be ignored and the whole frame will be processed."
   ]
  },
  {
   "cell_type": "code",
   "execution_count": null,
   "metadata": {
    "hidden": true,
    "scrolled": false
   },
   "outputs": [],
   "source": [
    "!stripmapApp.py stripmapApp.xml --start=cropraw --end=cropraw"
   ]
  },
  {
   "cell_type": "markdown",
   "metadata": {
    "heading_collapsed": true,
    "hidden": true
   },
   "source": [
    "## SLC Formation"
   ]
  },
  {
   "cell_type": "markdown",
   "metadata": {
    "heading_collapsed": true,
    "hidden": true
   },
   "source": [
    "### Step: <i>formslc</i> "
   ]
  },
  {
   "cell_type": "markdown",
   "metadata": {
    "hidden": true
   },
   "source": [
    "Step \"formslc\", focuses SLC images from the raw data for both the reference and secondary scenes."
   ]
  },
  {
   "cell_type": "code",
   "execution_count": null,
   "metadata": {
    "hidden": true,
    "scrolled": true
   },
   "outputs": [],
   "source": [
    "!stripmapApp.py stripmapApp.xml --start=formslc --end=formslc"
   ]
  },
  {
   "cell_type": "code",
   "execution_count": null,
   "metadata": {
    "hidden": true,
    "scrolled": true
   },
   "outputs": [],
   "source": [
    "ls 20080822_slc"
   ]
  },
  {
   "cell_type": "markdown",
   "metadata": {
    "hidden": true
   },
   "source": [
    "20080822.slc: Single Look Comlex image for 20080822 acquisition. \n",
    "\n",
    "20080822.slc.vrt: A gdal VRT file which contains the size, data type, etc.\n",
    "\n",
    "20080822.slc.xml: ISCE xml metadat file"
   ]
  },
  {
   "cell_type": "markdown",
   "metadata": {
    "hidden": true
   },
   "source": [
    "In order to see the number of lines and pixels for an SLC image (or any data readable by GDAL):"
   ]
  },
  {
   "cell_type": "code",
   "execution_count": null,
   "metadata": {
    "hidden": true,
    "scrolled": true
   },
   "outputs": [],
   "source": [
    "!gdalinfo 20080822_slc/20080822.slc"
   ]
  },
  {
   "cell_type": "markdown",
   "metadata": {
    "hidden": true
   },
   "source": [
    "Display a subset of SLC's amplitude and phase"
   ]
  },
  {
   "cell_type": "code",
   "execution_count": null,
   "metadata": {
    "hidden": true,
    "scrolled": false
   },
   "outputs": [],
   "source": [
    "ds = gdal.Open(\"20080822_slc/20080822.slc\", gdal.GA_ReadOnly)\n",
    "# extract a part of the SLC to display\n",
    "x0 = 0\n",
    "y0 = 10000\n",
    "x_offset = 4000\n",
    "y_offset = 10000\n",
    "slc = ds.GetRasterBand(1).ReadAsArray(x0, y0, x_offset, y_offset)\n",
    "ds = None\n",
    "\n",
    "plt.rcParams['font.size'] = '14'\n",
    "fig = plt.figure(figsize=(14, 12))\n",
    "\n",
    "# display amplitude of the slc\n",
    "ax = fig.add_subplot(1,2,1)\n",
    "ax.imshow(np.abs(slc), vmin = -2, vmax=2, cmap='gray')\n",
    "ax.set_title(\"amplitude\")\n",
    "\n",
    "#display phase of the slc\n",
    "ax = fig.add_subplot(1,2,2)\n",
    "ax.imshow(np.angle(slc))\n",
    "ax.set_title(\"phase\")\n",
    "\n",
    "plt.show()\n",
    "\n",
    "slc = None"
   ]
  },
  {
   "cell_type": "markdown",
   "metadata": {
    "heading_collapsed": true,
    "hidden": true
   },
   "source": [
    "### Step: <i>crop SLC</i>"
   ]
  },
  {
   "cell_type": "code",
   "execution_count": null,
   "metadata": {
    "hidden": true,
    "scrolled": true
   },
   "outputs": [],
   "source": [
    "!stripmapApp.py stripmapApp.xml  --start=cropslc --end=cropslc"
   ]
  },
  {
   "cell_type": "markdown",
   "metadata": {
    "hidden": true
   },
   "source": [
    "Similar to crop raw data but for SLC. Since region of interest has not been specified, the whole frame is processed."
   ]
  },
  {
   "cell_type": "markdown",
   "metadata": {
    "heading_collapsed": true,
    "hidden": true
   },
   "source": [
    "## DEM-Assisted Co-Registration "
   ]
  },
  {
   "cell_type": "markdown",
   "metadata": {
    "heading_collapsed": true,
    "hidden": true
   },
   "source": [
    "### Step: <i>verifyDEM</i>"
   ]
  },
  {
   "cell_type": "markdown",
   "metadata": {
    "hidden": true
   },
   "source": [
    "This step checks if the DEM was provided in the input xml file. If a DEM is not provided, then the app downloads SRTM DEM."
   ]
  },
  {
   "cell_type": "code",
   "execution_count": null,
   "metadata": {
    "hidden": true,
    "scrolled": false
   },
   "outputs": [],
   "source": [
    "!stripmapApp.py stripmapApp.xml  --start=verifyDEM --end=verifyDEM"
   ]
  },
  {
   "cell_type": "markdown",
   "metadata": {
    "heading_collapsed": true,
    "hidden": true
   },
   "source": [
    "### Step: <i>topo</i> (mapping radar coordinates to geo coordinates)"
   ]
  },
  {
   "cell_type": "code",
   "execution_count": null,
   "metadata": {
    "hidden": true,
    "scrolled": true
   },
   "outputs": [],
   "source": [
    "!stripmapApp.py stripmapApp.xml  --start=topo --end=topo"
   ]
  },
  {
   "cell_type": "markdown",
   "metadata": {
    "hidden": true
   },
   "source": [
    "At this step, based on the SAR acquisition geometry of the reference Image (including Doppler information), platforms trajectory and an existing DEM, each pixel of the reference image is geolocated. The geolocated coordinates will be at the same coordinate system of the platforms state vectors, which are usually given in WGS84 coordinate system. Moreover the incidence angle and heading angles will be computed for each pixel. \n",
    "\n",
    "![title](Figs/Topo.png)\n",
    "\n",
    "Outputs of the step \"topo\" are written to \"geometry\" directory:\n"
   ]
  },
  {
   "cell_type": "code",
   "execution_count": null,
   "metadata": {
    "hidden": true,
    "scrolled": true
   },
   "outputs": [],
   "source": [
    "!ls geometry"
   ]
  },
  {
   "cell_type": "markdown",
   "metadata": {
    "hidden": true
   },
   "source": [
    "lat.rdr.full: latitude of each pixel on the ground. \"full\" stands for full SAR image resolution grid (before multi-looking)\n",
    "\n",
    "lon.rdr.full: longitude\n",
    "\n",
    "z.rdr.full: height\n",
    "\n",
    "los.rdr.full: incidence angle and heading angle"
   ]
  },
  {
   "cell_type": "code",
   "execution_count": null,
   "metadata": {
    "hidden": true,
    "scrolled": false
   },
   "outputs": [],
   "source": [
    "# Read a bounding box of latitude\n",
    "ds = gdal.Open('geometry/lat.rdr.full', gdal.GA_ReadOnly)\n",
    "lat = ds.GetRasterBand(1).ReadAsArray(0,10000,3000, 10000)\n",
    "ds = None\n",
    "\n",
    "# Read a bounding box of longitude\n",
    "ds = gdal.Open('geometry/lon.rdr.full', gdal.GA_ReadOnly)\n",
    "lon = ds.GetRasterBand(1).ReadAsArray(0,10000,3000, 10000)\n",
    "ds = None\n",
    "\n",
    "# Read a bounding box of height\n",
    "ds = gdal.Open('geometry/z.rdr.full', gdal.GA_ReadOnly)\n",
    "hgt = ds.GetRasterBand(1).ReadAsArray(0,10000,3000, 10000)\n",
    "ds = None\n",
    "\n",
    "plt.rcParams['font.size'] = '14'\n",
    "fig = plt.figure(figsize=(18, 16))\n",
    "\n",
    "ax = fig.add_subplot(1,3,1)\n",
    "cax=ax.imshow(lat)\n",
    "ax.set_title(\"latitude\")\n",
    "ax.set_axis_off()\n",
    "cbar = fig.colorbar(cax, orientation='horizontal')\n",
    "\n",
    "\n",
    "ax = fig.add_subplot(1,3,2)\n",
    "cax=ax.imshow(lon)\n",
    "ax.set_title(\"longitude\")\n",
    "ax.set_axis_off()\n",
    "cbar = fig.colorbar(cax, orientation='horizontal')\n",
    "\n",
    "\n",
    "ax = fig.add_subplot(1,3,3)\n",
    "cax=ax.imshow(hgt, vmin = -100, vmax=1000)\n",
    "ax.set_title(\"height\")\n",
    "ax.set_axis_off()\n",
    "cbar = fig.colorbar(cax, orientation='horizontal')\n",
    "\n",
    "plt.show()\n",
    "\n",
    "lat = None\n",
    "lon = None\n",
    "hgt = None"
   ]
  },
  {
   "cell_type": "markdown",
   "metadata": {
    "heading_collapsed": true,
    "hidden": true
   },
   "source": [
    "### Step: <i>geo2rdr</i> (mapping from geo coordinates to radar coordinates)"
   ]
  },
  {
   "cell_type": "code",
   "execution_count": null,
   "metadata": {
    "hidden": true,
    "scrolled": true
   },
   "outputs": [],
   "source": [
    "!stripmapApp.py stripmapApp.xml --start=geo2rdr --end=geo2rdr"
   ]
  },
  {
   "cell_type": "markdown",
   "metadata": {
    "hidden": true
   },
   "source": [
    "In this step, given the geo-ccordinates of each pixel in the reference image (outputs of topo), the range and azimuth time (radar coordinates) is computed given the acquisition geometry and orbit information of the secondary image.  \n",
    "\n",
    "![title](Figs/Geo2rdr.png)\n",
    "\n",
    "The computed range and azimuth time for the secondary image, gives the pure geometrical offset, required for resampling the secondary image to the reference image in the next step.\n",
    "\n",
    "![title](Figs/deltaR.png)\n",
    "\n",
    "After running this step, the geometrical offsets are available in \"offsets\" folder:"
   ]
  },
  {
   "cell_type": "code",
   "execution_count": null,
   "metadata": {
    "hidden": true,
    "scrolled": true
   },
   "outputs": [],
   "source": [
    "!ls offsets"
   ]
  },
  {
   "cell_type": "markdown",
   "metadata": {
    "hidden": true
   },
   "source": [
    "azimuth.off: contains the offsets betwen reference ans secondary images in azimuth direction\n",
    "\n",
    "range.off:   contains the offsets betwen reference ans secondary images in range direction"
   ]
  },
  {
   "cell_type": "code",
   "execution_count": null,
   "metadata": {
    "hidden": true,
    "scrolled": true
   },
   "outputs": [],
   "source": [
    "ds = gdal.Open('offsets/azimuth.off', gdal.GA_ReadOnly)\n",
    "# extract only part of the data to display\n",
    "az_offsets = ds.GetRasterBand(1).ReadAsArray(100,100,2000,5000)\n",
    "ds = None\n",
    "\n",
    "ds = gdal.Open('offsets/range.off', gdal.GA_ReadOnly)\n",
    "# extract only part of the data to display\n",
    "rng_offsets = ds.GetRasterBand(1).ReadAsArray(100,100,2000,5000)\n",
    "ds = None\n",
    "plt.rcParams['font.size'] = '14'\n",
    "fig = plt.figure(figsize=(14, 12))\n",
    "\n",
    "ax = fig.add_subplot(1,2,1)\n",
    "cax=ax.imshow(az_offsets)\n",
    "ax.set_title(\"azimuth offsets\")\n",
    "ax.set_axis_off()\n",
    "cbar = fig.colorbar(cax, orientation='horizontal')\n",
    "\n",
    "ax = fig.add_subplot(1,2,2)\n",
    "cax = ax.imshow(rng_offsets)\n",
    "ax.set_title(\"range offsets\")\n",
    "ax.set_axis_off()\n",
    "cbar = fig.colorbar(cax, orientation='horizontal')\n",
    "\n",
    "plt.show()\n",
    "\n",
    "az_offsets = None\n",
    "rng_offsets = None"
   ]
  },
  {
   "cell_type": "markdown",
   "metadata": {
    "heading_collapsed": true,
    "hidden": true
   },
   "source": [
    "### Step: <i>resampling</i> (using only geometrical offsets)"
   ]
  },
  {
   "cell_type": "code",
   "execution_count": null,
   "metadata": {
    "hidden": true,
    "scrolled": true
   },
   "outputs": [],
   "source": [
    "!stripmapApp.py stripmapApp.xml --start=coarse_resample --end=coarse_resample"
   ]
  },
  {
   "cell_type": "markdown",
   "metadata": {
    "hidden": true
   },
   "source": [
    "At this step, the gemetrical offsets are used to resample the secondary image to the same grid as the reference image, i.e., the secondary image is co-registered to the reference image. The output of this step is written to \"coregisteredSlc\" folder."
   ]
  },
  {
   "cell_type": "code",
   "execution_count": null,
   "metadata": {
    "hidden": true,
    "scrolled": true
   },
   "outputs": [],
   "source": [
    "!ls coregisteredSlc/"
   ]
  },
  {
   "cell_type": "markdown",
   "metadata": {
    "hidden": true
   },
   "source": [
    "coarse_coreg.slc: is the secondary SLC coregistered to the reference image"
   ]
  },
  {
   "cell_type": "code",
   "execution_count": null,
   "metadata": {
    "hidden": true,
    "scrolled": true
   },
   "outputs": [],
   "source": [
    "ds = gdal.Open(\"coregisteredSlc/coarse_coreg.slc\", gdal.GA_ReadOnly)\n",
    "slc = ds.GetRasterBand(1).ReadAsArray(0, 5000, 4000, 15000)\n",
    "ds = None\n",
    "plt.rcParams['font.size'] = '14'\n",
    "fig = plt.figure(figsize=(18, 16))\n",
    "ax = fig.add_subplot(1,2,1)\n",
    "ax.imshow(np.abs(slc), vmin = -2, vmax=2, cmap='gray')\n",
    "ax.set_title(\"amplitude\")\n",
    "\n",
    "slc = None"
   ]
  },
  {
   "cell_type": "markdown",
   "metadata": {
    "heading_collapsed": true,
    "hidden": true
   },
   "source": [
    "### Step: <i>misregistration</i> (estimating residual constant offsets in range and azimuth directions)"
   ]
  },
  {
   "cell_type": "code",
   "execution_count": null,
   "metadata": {
    "hidden": true,
    "scrolled": true
   },
   "outputs": [],
   "source": [
    "!stripmapApp.py stripmapApp.xml --start=misregistration --end=misregistration"
   ]
  },
  {
   "cell_type": "markdown",
   "metadata": {
    "hidden": true
   },
   "source": [
    "The range and azimuth offsets derived from pure geometry can be potentially affected by inaccuracy of orbit information or inaccurate DEMs, or inaccurate SAR metadata. The current available DEMs (e.g., SRTM DEMs) are accurate enough to estimate offsets with accuracies of 1/100 of a pixel. The Orbit information of most modern SAR sensors are also precise enough to obtain the same order of accuracy. However, inaccurate metadata (such as timing error, constant range bias), or range bulk delay may affect the estimated offsets. To account for such sources of errors the misregistration step is performed to estimate possible constant offsets between coarse coregistered SLC and reference SLC. For this purpose an incoherent cross correlation is performed. \n",
    "\n",
    "The results of the \"misregistration\" step is written to the \"misreg\" folder.\n"
   ]
  },
  {
   "cell_type": "code",
   "execution_count": null,
   "metadata": {
    "hidden": true,
    "scrolled": true
   },
   "outputs": [],
   "source": [
    "!ls misreg/"
   ]
  },
  {
   "cell_type": "markdown",
   "metadata": {
    "hidden": true
   },
   "source": [
    "In order to extract the estimated misregistration offsets:"
   ]
  },
  {
   "cell_type": "code",
   "execution_count": null,
   "metadata": {
    "hidden": true,
    "scrolled": true
   },
   "outputs": [],
   "source": [
    "stObj=St()\n",
    "stObj.configure()\n",
    "\n",
    "az = stObj.loadProduct(\"misreg/misreg_az.xml\")\n",
    "rng = stObj.loadProduct(\"misreg/misreg_rg.xml\")\n",
    "\n",
    "print(\"azimuth misregistration: \", az._coeffs)\n",
    "print(\"range misregistration: \", rng._coeffs)"
   ]
  },
  {
   "cell_type": "markdown",
   "metadata": {
    "heading_collapsed": true,
    "hidden": true
   },
   "source": [
    "### Step: <i>refine_resample</i> (resampling using geometrical offsets + misregistration)"
   ]
  },
  {
   "cell_type": "code",
   "execution_count": null,
   "metadata": {
    "hidden": true,
    "scrolled": true
   },
   "outputs": [],
   "source": [
    "!stripmapApp.py stripmapApp.xml --start=refined_resample --end=refined_resample"
   ]
  },
  {
   "cell_type": "markdown",
   "metadata": {
    "hidden": true
   },
   "source": [
    "At this step resampling is re-run to account for the misregistration estimated at the previous step. The new coregisterd SLC (named refined_coreg.slc) is written to the \"coregisteredSlc\" folder."
   ]
  },
  {
   "cell_type": "code",
   "execution_count": null,
   "metadata": {
    "hidden": true,
    "scrolled": true
   },
   "outputs": [],
   "source": [
    "!ls coregisteredSlc/"
   ]
  },
  {
   "cell_type": "markdown",
   "metadata": {
    "heading_collapsed": true,
    "hidden": true
   },
   "source": [
    "### optional steps ('dense_offsets', 'rubber_sheet', 'fine_resample', 'split_range_spectrum' , 'sub_band_resample')"
   ]
  },
  {
   "cell_type": "code",
   "execution_count": null,
   "metadata": {
    "hidden": true,
    "scrolled": true
   },
   "outputs": [],
   "source": [
    "!stripmapApp.py stripmapApp.xml --start=dense_offsets --end=sub_band_resample"
   ]
  },
  {
   "cell_type": "markdown",
   "metadata": {
    "hidden": true
   },
   "source": [
    "These steps are optional and will be skipped if user does not request them in the input xml file. We will get back to these steps in a different session where we estimate ionospheric phase."
   ]
  },
  {
   "cell_type": "markdown",
   "metadata": {
    "heading_collapsed": true,
    "hidden": true
   },
   "source": [
    "## Interferogram Formation"
   ]
  },
  {
   "cell_type": "markdown",
   "metadata": {
    "heading_collapsed": true,
    "hidden": true
   },
   "source": [
    "### Step: <i>interferogram</i>"
   ]
  },
  {
   "cell_type": "markdown",
   "metadata": {
    "hidden": true
   },
   "source": [
    "At this step the reference image and refined_coreg.slc is used to generate the interferogram. The generated interferogram is multi-looked based on the user inputs in the input xml file. If user does not specify the number of looks in range and azimuth directions, then they will be estimated based on posting. The default posting is 30 m which can be also specified in the input xml file.\n",
    "\n",
    "The results of the interferogram step is written to the \"interferogram\" folder:"
   ]
  },
  {
   "cell_type": "code",
   "execution_count": null,
   "metadata": {
    "hidden": true,
    "scrolled": true
   },
   "outputs": [],
   "source": [
    "!stripmapApp.py stripmapApp.xml --start=interferogram --end=interferogram"
   ]
  },
  {
   "cell_type": "code",
   "execution_count": null,
   "metadata": {
    "hidden": true,
    "scrolled": true
   },
   "outputs": [],
   "source": [
    "!ls interferogram/"
   ]
  },
  {
   "cell_type": "markdown",
   "metadata": {
    "hidden": true
   },
   "source": [
    "topophase.flat: flattened (geometrical phase removed) and multi-looked interferogram.(one band complex64 data).\n",
    "\n",
    "topophase.cor: coherence and magnitude for the flattened multi-looked interferogram. (two bands float32 data).\n",
    "\n",
    "topophase.cor.full: similar to topophase.cor but at full SAR resolution.\n",
    "\n",
    "topophase.amp: amplitudes of reference amd secondary images. (two bands float32) \n"
   ]
  },
  {
   "cell_type": "markdown",
   "metadata": {
    "heading_collapsed": true,
    "hidden": true
   },
   "source": [
    "### Optional Step: <i>sub-band interferogram</i>"
   ]
  },
  {
   "cell_type": "code",
   "execution_count": null,
   "metadata": {
    "hidden": true,
    "scrolled": true
   },
   "outputs": [],
   "source": [
    "!stripmapApp.py stripmapApp.xml --start=sub_band_interferogram --end=sub_band_interferogram"
   ]
  },
  {
   "cell_type": "markdown",
   "metadata": {
    "hidden": true
   },
   "source": [
    "This step will be skipped as we have not asked for ionospheric phase estimation. We will get back to this step in the ionospheric phase estimation notebook."
   ]
  },
  {
   "cell_type": "markdown",
   "metadata": {
    "heading_collapsed": true,
    "hidden": true
   },
   "source": [
    "## Phase Filtering and Phase Unwrapping"
   ]
  },
  {
   "cell_type": "markdown",
   "metadata": {
    "heading_collapsed": true,
    "hidden": true
   },
   "source": [
    "### Step: <i>filter</i>"
   ]
  },
  {
   "cell_type": "markdown",
   "metadata": {
    "hidden": true
   },
   "source": [
    "A power spectral filter is applied to the multi-looked interferogram to reduce noise.\n"
   ]
  },
  {
   "cell_type": "code",
   "execution_count": null,
   "metadata": {
    "hidden": true,
    "scrolled": true
   },
   "outputs": [],
   "source": [
    "!stripmapApp.py stripmapApp.xml --start=filter --end=filter"
   ]
  },
  {
   "cell_type": "markdown",
   "metadata": {
    "hidden": true
   },
   "source": [
    "Next we visualize the interferogram before and after filtering.\n"
   ]
  },
  {
   "cell_type": "code",
   "execution_count": null,
   "metadata": {
    "hidden": true,
    "scrolled": false
   },
   "outputs": [],
   "source": [
    "# reading the multi-looked wrapped interferogram\n",
    "ds = gdal.Open(\"interferogram/topophase.flat\", gdal.GA_ReadOnly)\n",
    "igram = ds.GetRasterBand(1).ReadAsArray()\n",
    "ds = None\n",
    "\n",
    "# reading the multi-looked un-wrapped interferogram\n",
    "ds = gdal.Open(\"interferogram/filt_topophase.flat\", gdal.GA_ReadOnly)\n",
    "filt_igram = ds.GetRasterBand(1).ReadAsArray()\n",
    "ds = None\n",
    "plt.rcParams['font.size'] = '14'\n",
    "fig = plt.figure(figsize=(18, 16))\n",
    "\n",
    "ax = fig.add_subplot(1,3,1)\n",
    "ax.imshow(np.abs(igram), vmin = 0 , vmax = 60.0, cmap = 'gray')\n",
    "ax.set_title(\"magnitude\")\n",
    "#ax.set_axis_off()\n",
    "\n",
    "ax = fig.add_subplot(1,3,2)\n",
    "ax.imshow(np.angle(igram), cmap='jet')\n",
    "ax.plot([10,1500,1500,10,10],[2500,2500,1000,1000,2500],'-k')\n",
    "ax.set_title(\"multi-looked interferometric phase\")\n",
    "ax.set_axis_off()\n",
    "\n",
    "ax = fig.add_subplot(1,3,3)\n",
    "ax.imshow(np.angle(filt_igram), cmap='jet')\n",
    "ax.plot([10,1500,1500,10,10],[2500,2500,1000,1000,2500],'-k')\n",
    "ax.set_title(\"multi-looked & filtered phase\")\n",
    "#ax.set_axis_off()\n",
    "\n",
    "fig = plt.figure(figsize=(18, 16))\n",
    "\n",
    "ax = fig.add_subplot(1,3,1)\n",
    "ax.imshow(np.abs(igram[1000:2500, 10:1500]), vmin = 0 , vmax = 60.0, cmap = 'gray')\n",
    "ax.set_title(\"magnitude\")\n",
    "#ax.set_axis_off()\n",
    "\n",
    "ax = fig.add_subplot(1,3,2)\n",
    "ax.imshow(np.angle(igram[1000:2500, 10:1500]), cmap='jet')\n",
    "ax.plot([600,1400,1400,600,600],[1400,1400,800,800,1400],'--k')\n",
    "ax.set_title(\"multi-looked interferometric phase\")\n",
    "ax.set_axis_off()\n",
    "\n",
    "ax = fig.add_subplot(1,3,3)\n",
    "ax.imshow(np.angle(filt_igram[1000:2500, 10:1500]), cmap='jet')\n",
    "ax.plot([600,1400,1400,600,600],[1400,1400,800,800,1400],'--k')\n",
    "ax.set_title(\"multi-looked & filtered phase\")\n",
    "ax.set_axis_off()\n",
    "\n",
    "fig = plt.figure(figsize=(18, 16))\n",
    "\n",
    "ax = fig.add_subplot(1,3,1)\n",
    "ax.imshow(np.abs(igram[1800:2400, 610:1410]), vmin = 0 , vmax = 60.0, cmap = 'gray')\n",
    "ax.set_title(\"magnitude\")\n",
    "ax.set_axis_off()\n",
    "\n",
    "ax = fig.add_subplot(1,3,2)\n",
    "ax.imshow(np.angle(igram[1800:2400, 610:1410]), cmap='jet')\n",
    "ax.set_title(\"multi-looked interferometric phase\")\n",
    "ax.set_axis_off()\n",
    "\n",
    "ax = fig.add_subplot(1,3,3)\n",
    "ax.imshow(np.angle(filt_igram[1800:2400, 610:1410]), cmap='jet')\n",
    "ax.set_title(\"multi-looked & filtered phase\")\n",
    "ax.set_axis_off()\n",
    "\n",
    "filt_igram = None\n",
    "igram = None\n"
   ]
  },
  {
   "cell_type": "markdown",
   "metadata": {
    "heading_collapsed": true,
    "hidden": true
   },
   "source": [
    "### <font color='rgba(200,0,0,0.2)'> Homework Assignment #1</font> "
   ]
  },
  {
   "cell_type": "markdown",
   "metadata": {
    "hidden": true
   },
   "source": [
    "<div class=\"alert alert-danger\">\n",
    "<font size=\"5\"> <b> <font color='rgba(200,0,0,0.2)'> <u>ASSIGNMENT #1</u>:  </font> Flat Earth Phase Correction </b> <font color='rgba(200,0,0,0.2)'> -- [5 Points] </font> </font>\n",
    "\n",
    "During Lecture 3 (InSAR), we saw that before flat earth correction, the interferogram contains many fringes. Here a couple of short questions related to that:\n",
    "\n",
    "<ol type=\"a\">\n",
    "<li><b>Question 1.1</b>: In addition to improve the visualization of InSAR data, one important reason why we remove the flat earth phase from interferograms is to make phase unwrapping easier. Explain in a few sentences why you think removing the flat earth phase makes phase unwrapping less complicated. To answer this question, please edit the markdown cell below.<font color='rgba(200,0,0,0.2)'> -- [3 Points] </font></li>\n",
    "<br>\n",
    "<li><b>Question 1.2</b>: It turns out, ISCE tries to reduce the unwrapping complexity even more. Instead of \"just\" removing the flat earth phase, it subtracts any already know topography from the interferogram by using an existing DEM. Once this is done, what does the residual phase information in the interferogram shown above represent? <font color='rgba(200,0,0,0.2)'> -- [2 Points] </font></li>\n",
    "</ol>\n",
    "\n",
    "</div>"
   ]
  },
  {
   "cell_type": "markdown",
   "metadata": {
    "hidden": true
   },
   "source": [
    "<hr>\n",
    "<div class=\"alert alert-danger\">\n",
    "<i><font color='rgba(200,0,0,0.2)'> Question 1.1 [3 Points]:</font></i> \n",
    "\n",
    "ADD DISCUSSION HERE:\n",
    "</div>"
   ]
  },
  {
   "cell_type": "markdown",
   "metadata": {
    "hidden": true
   },
   "source": [
    "<hr>\n",
    "<div class=\"alert alert-danger\">\n",
    "<i><font color='rgba(200,0,0,0.2)'> Question 1.2 [3 Points]:</font></i> \n",
    "\n",
    "ADD DISCUSSION HERE:\n",
    "</div>"
   ]
  },
  {
   "cell_type": "markdown",
   "metadata": {
    "heading_collapsed": true,
    "hidden": true
   },
   "source": [
    "### Optional Steps ('filter_low_band', 'filter_high_band')"
   ]
  },
  {
   "cell_type": "code",
   "execution_count": null,
   "metadata": {
    "hidden": true,
    "scrolled": true
   },
   "outputs": [],
   "source": [
    "!stripmapApp.py stripmapApp.xml --start=filter_low_band  --end=filter_high_band"
   ]
  },
  {
   "cell_type": "markdown",
   "metadata": {
    "hidden": true
   },
   "source": [
    "These steps will be skipped since we have not asked for ionospheric phase estimation in the input xml file."
   ]
  },
  {
   "cell_type": "markdown",
   "metadata": {
    "heading_collapsed": true,
    "hidden": true
   },
   "source": [
    "### Step: <i>unwrap</i>"
   ]
  },
  {
   "cell_type": "code",
   "execution_count": null,
   "metadata": {
    "hidden": true,
    "scrolled": true
   },
   "outputs": [],
   "source": [
    "!stripmapApp.py stripmapApp.xml --start=unwrap  --end=unwrap"
   ]
  },
  {
   "cell_type": "markdown",
   "metadata": {
    "hidden": true
   },
   "source": [
    "At this step the wrapped phase of the filtered and multi-looked interferogram is unwrapped. The unwrapped interferogram is a two band data with magnitude and phase components."
   ]
  },
  {
   "cell_type": "code",
   "execution_count": null,
   "metadata": {
    "hidden": true,
    "scrolled": false
   },
   "outputs": [],
   "source": [
    "# reading the multi-looked wrapped interferogram\n",
    "ds = gdal.Open(\"interferogram/filt_topophase.flat\", gdal.GA_ReadOnly)\n",
    "igram = ds.GetRasterBand(1).ReadAsArray()\n",
    "ds = None\n",
    "\n",
    "# reading the multi-looked unwrapped interferogram\n",
    "ds = gdal.Open(\"interferogram/filt_topophase.unw\", gdal.GA_ReadOnly)\n",
    "igram_unw = ds.GetRasterBand(2).ReadAsArray()\n",
    "ds = None\n",
    "\n",
    "# reading the connected component file\n",
    "ds = gdal.Open(\"interferogram/filt_topophase.conncomp\", gdal.GA_ReadOnly)\n",
    "connected_components = ds.GetRasterBand(1).ReadAsArray()\n",
    "ds = None\n",
    "\n",
    "plt.rcParams['font.size'] = '14'\n",
    "fig = plt.figure(figsize=(18, 6))\n",
    "\n",
    "ax = fig.add_subplot(1,3,1)\n",
    "cax=ax.imshow(np.angle(igram[1000:2600, 10:1800]), cmap='jet')\n",
    "ax.set_title(\"wrapped\")\n",
    "#ax.set_axis_off()\n",
    "cbar = fig.colorbar(cax, ticks=[-3.14,0,3.14],orientation='horizontal')\n",
    "cbar.ax.set_xticklabels([\"$-\\pi$\",0,\"$\\pi$\"])\n",
    "\n",
    "ax = fig.add_subplot(1,3,2)\n",
    "cax = ax.imshow(igram_unw[1000:2600, 10:1800], vmin = -5 , vmax = 2.0, cmap = 'jet')\n",
    "ax.set_title(\"unwrapped\")\n",
    "ax.set_axis_off()\n",
    "cbar = fig.colorbar(cax, ticks=[-5,0, 2\n",
    "                               ], orientation='horizontal')\n",
    "\n",
    "\n",
    "ax = fig.add_subplot(1,3,3)\n",
    "cax = ax.imshow(connected_components[1000:2600, 10:1800], cmap = 'jet')\n",
    "ax.set_title(\"components\")\n",
    "ax.set_axis_off()\n",
    "cbar = fig.colorbar(cax, ticks=[0, 1] , orientation='horizontal')\n",
    "cbar.ax.set_xticklabels([0,1])\n",
    "\n",
    "\n",
    "connected_components = None"
   ]
  },
  {
   "cell_type": "markdown",
   "metadata": {
    "hidden": true
   },
   "source": [
    "<br>\n",
    "<div class=\"alert alert-info\">\n",
    "<b>Note (wrapped vs unwrapped) :</b> \n",
    "Note the colorscale for the wrapped and unwrapped interferograms. The wrapped interferometric phase varies from $-\\pi$ to $\\pi$, while the unwrapped interferogram varies from -15 to 15 radians.\n",
    "</div>\n",
    "\n",
    "<br>\n",
    "<div class=\"alert alert-info\">\n",
    "<b>Note :</b> \n",
    "The connected components file is a product of the phase unwrapping. Each interferogram may have several connected compoenets. The unwrapped phase within each component is expected to be correctly unwrapped. However, there might be $2\\pi$ phase jumps between the components. Advanced ISCE users may use the 2-stage unwrapping to adjust ambiguities among different components. stripmapApp currently does not support 2-stage unwrapping. Look for this option in future releases.  \n",
    "</div>\n"
   ]
  },
  {
   "cell_type": "code",
   "execution_count": null,
   "metadata": {
    "hidden": true,
    "scrolled": true
   },
   "outputs": [],
   "source": [
    "profile_wrapped_1 = np.angle(igram[2000,1000:1500])\n",
    "profile_unwrapped_1 = igram_unw[2000,1000:1500]\n",
    "profile_wrapped_2 = np.angle(igram[1400,400:600])\n",
    "profile_unwrapped_2 = igram_unw[1400,400:600]\n",
    "plt.rcParams['font.size'] = '14'\n",
    "fig = plt.figure(figsize=(20,8))\n",
    "\n",
    "ax = fig.add_subplot(2,3,1)\n",
    "cax=ax.plot(profile_wrapped_1)\n",
    "ax.set_title(\"wrapped\")\n",
    "\n",
    "ax = fig.add_subplot(2,3,2)\n",
    "cax=ax.plot(profile_unwrapped_1)\n",
    "ax.set_title(\"unwrapped\")\n",
    "\n",
    "ax = fig.add_subplot(2,3,3)\n",
    "cax=ax.plot(np.round((profile_unwrapped_1-profile_wrapped_1)/2.0/np.pi))\n",
    "ax.set_title(\"(unwrapped - wrapped)/(2$\\pi$)\")\n",
    "\n",
    "ax = fig.add_subplot(2,3,4)\n",
    "cax=ax.plot(profile_wrapped_2)\n",
    "ax.set_title(\"wrapped\")\n",
    "\n",
    "ax = fig.add_subplot(2,3,5)\n",
    "cax=ax.plot(profile_unwrapped_2)\n",
    "ax.set_title(\"unwrapped\")\n",
    "\n",
    "ax = fig.add_subplot(2,3,6)\n",
    "cax=ax.plot((profile_unwrapped_2-profile_wrapped_2)/2.0/np.pi)\n",
    "ax.set_title(\"(unwrapped - wrapped)/(2$\\pi$)\")\n",
    "\n",
    "\n",
    "igram = None\n",
    "igram_unw = None"
   ]
  },
  {
   "cell_type": "markdown",
   "metadata": {
    "heading_collapsed": true,
    "hidden": true
   },
   "source": [
    "### Optional Steps ('unwrap_low_band', 'unwrap_high_band', 'ionosphere')"
   ]
  },
  {
   "cell_type": "code",
   "execution_count": null,
   "metadata": {
    "hidden": true,
    "scrolled": true
   },
   "outputs": [],
   "source": [
    "!stripmapApp.py stripmapApp.xml --start=unwrap_low_band  --end=ionosphere"
   ]
  },
  {
   "cell_type": "markdown",
   "metadata": {
    "hidden": true
   },
   "source": [
    "Since we have not asked for ionospheric phase estimation, all these steps will be skipped."
   ]
  },
  {
   "cell_type": "markdown",
   "metadata": {
    "heading_collapsed": true,
    "hidden": true
   },
   "source": [
    "## Geocoding and Phase2Height Conversion"
   ]
  },
  {
   "cell_type": "markdown",
   "metadata": {
    "heading_collapsed": true,
    "hidden": true
   },
   "source": [
    "### Step: <i>geocoding</i>"
   ]
  },
  {
   "cell_type": "code",
   "execution_count": null,
   "metadata": {
    "hidden": true,
    "scrolled": true
   },
   "outputs": [],
   "source": [
    "!stripmapApp.py stripmapApp.xml --start=geocode  --end=geocode"
   ]
  },
  {
   "cell_type": "code",
   "execution_count": null,
   "metadata": {
    "hidden": true,
    "scrolled": false
   },
   "outputs": [],
   "source": [
    "# reading the multi-looked wrapped interferogram\n",
    "ds = gdal.Open(\"interferogram/filt_topophase.unw.geo\", gdal.GA_ReadOnly)\n",
    "unw_geocoded = ds.GetRasterBand(2).ReadAsArray()\n",
    "ds = None\n",
    "\n",
    "plt.rcParams['font.size'] = '14'\n",
    "fig = plt.figure(figsize=(12,10))\n",
    "\n",
    "ax = fig.add_subplot(1,1,1)\n",
    "cax = ax.imshow(unw_geocoded, vmin = -5 , vmax = 2.0, cmap = 'jet')\n",
    "ax.set_title(\"geocoded unwrapped\")\n",
    "ax.set_axis_off()\n",
    "cbar = fig.colorbar(cax, ticks=[-5,0, 2], orientation='horizontal')\n",
    "\n",
    "plt.show()\n",
    "unw_geocoded = None"
   ]
  },
  {
   "cell_type": "markdown",
   "metadata": {
    "heading_collapsed": true,
    "hidden": true
   },
   "source": [
    "### <font color='rgba(200,0,0,0.2)'> Homework Assignment #2</font> "
   ]
  },
  {
   "cell_type": "markdown",
   "metadata": {
    "hidden": true
   },
   "source": [
    "<div class=\"alert alert-danger\">\n",
    "<font size=\"5\"> <b> <font color='rgba(200,0,0,0.2)'> <u>ASSIGNMENT #2</u>:  </font> Succeed with the Geocoding of your Interferogram </b> <font color='rgba(200,0,0,0.2)'> -- [15 Points] </font> </font>\n",
    "\n",
    "Run the notebook all the way to this point and compare your geocoded interferogram to the interferogram shown below. If your product looks very similar then you succeeded with this notebook. All you need to do is download the notebook as described above and you completed this assignment.  \n",
    "\n",
    "![title](Figs/GeocodedIfgrm.JPG)\n",
    "</div>"
   ]
  },
  {
   "cell_type": "markdown",
   "metadata": {
    "heading_collapsed": true,
    "hidden": true
   },
   "source": [
    "### Step: <i>Phase-to-Height Conversion</i>"
   ]
  },
  {
   "cell_type": "markdown",
   "metadata": {
    "hidden": true
   },
   "source": [
    "Once the phase is geocoded, the phase $\\phi$ information has to be scaled into height $h$ using equation\n",
    "\n",
    "\\begin{equation}\n",
    "h = \\frac{\\lambda}{4\\pi} \\cdot \\frac{R \\cdot sin(\\theta)}{B_{\\perp}} \\cdot \\phi\n",
    "\\end{equation}\n",
    "\n",
    "We will use the ISCE function ```imageMath.py``` for this step.  "
   ]
  },
  {
   "cell_type": "markdown",
   "metadata": {
    "hidden": true
   },
   "source": [
    "The following code cell uses ```imageMath.py``` to do the phase-to-height conversion. The parameters are as follows:\n",
    "<ul>\n",
    "  <li><b>-e</b>: This argument encodes the equation we are trying to execute. We are using a interferometric baseline of $B_{\\perp} = 900m$ here.</li>\n",
    "  <li><b>-o</b>: This argument specifies the output file we create. </li>\n",
    "  <li><b>-t</b>: Sets the format of the output file. We are setting this format to <b>float</b></li>\n",
    "  <li><b>--a</b>: specifies the input file use in our equation.</li>\n",
    "</ul>"
   ]
  },
  {
   "cell_type": "code",
   "execution_count": null,
   "metadata": {
    "hidden": true
   },
   "outputs": [],
   "source": [
    "!imageMath.py -e='a_0 ; 0.0566/(4.0 * 3.14) * 850000 * 0.5 / (900) * a_1' -o DEMupdate.geo -t float --a=interferogram/filt_topophase.unw.geo"
   ]
  },
  {
   "cell_type": "markdown",
   "metadata": {
    "hidden": true
   },
   "source": [
    "Now we can <b>plot the DEM update height map</b> we generated:"
   ]
  },
  {
   "cell_type": "code",
   "execution_count": null,
   "metadata": {
    "hidden": true
   },
   "outputs": [],
   "source": [
    "# reading the multi-looked wrapped interferogram\n",
    "ds = gdal.Open(\"DEMupdate.geo\", gdal.GA_ReadOnly)\n",
    "DEMupdate = ds.GetRasterBand(2).ReadAsArray()\n",
    "ds = None\n",
    "DEMupdate_m = np.ma.masked_where(DEMupdate==0, DEMupdate)\n",
    "plt.rcParams['font.size'] = '14'\n",
    "fig = plt.figure(figsize=(12,10))\n",
    "\n",
    "ax = fig.add_subplot(1,1,1)\n",
    "cax = ax.imshow(DEMupdate - np.mean(DEMupdate_m), vmin = -5 , vmax = 5, cmap = 'jet')\n",
    "ax.set_title(\"geocoded unwrapped\")\n",
    "ax.set_axis_off()\n",
    "cbar = fig.colorbar(cax, ticks=[-5,0, 5], orientation='horizontal')\n",
    "\n",
    "plt.show()\n",
    "unw_geocoded = None"
   ]
  },
  {
   "cell_type": "markdown",
   "metadata": {
    "heading_collapsed": true
   },
   "source": [
    "# Supplementary Information"
   ]
  },
  {
   "cell_type": "markdown",
   "metadata": {
    "heading_collapsed": true,
    "hidden": true
   },
   "source": [
    "### understanding xml files"
   ]
  },
  {
   "cell_type": "markdown",
   "metadata": {
    "hidden": true
   },
   "source": [
    "The format of this type of file may seem unfamiliar or strange to you, but with the following description of the basics of the format, it will hopefully become more familiar.   The first thing to point out is that the indentations and line breaks seen above are not required and are simply used to make the structure more clear and the file more readable to humans.  The xml file provides structure to data for consumption by a computer.  As far as the computer is concerned the data structure is equally readable if all of the information were contained on a single very long line, but human readers would have a hard time reading it in that format. \n",
    "\n",
    "The next thing to point out is the method by which the data are structured through the use of tags and attributes.  An item enclosed in the < (less-than) and > (greater-than) symbols is referred to as a tag.  The name enclosed in the < and > symbols is the name of the tag.  Every tag in an xml file must have an associated closing tag that contains the same name but starts with the symbol </ and ends with the symbol >.  This is the basic unit of structure given to the data.  Data are enclosed inside of opening and closing tags that have names identifying the enclosed data.  This structure is nested to any order of nesting necessary to represent the data.  The Python language (in which the ISCE user interface is written) provides powerful tools to parse the xml structure into a data structure object and to very easily “walk” through the structure of that object.  \n",
    "\n",
    "In the above xml file the first and last tags in the file are a tag pair: <stripmapApp> and </stripmapApp> (note again, tags must come in pairs like this).  The first of these two tags, or the opening tag,  marks the beginning of the contents of the tag and the second of these two tags, or the closing tag, marks the end of the contents of the tag.  ISCE expects a “file tag” of this nature to bracket all inputs contained in the file.  The actual name of the file tag, as far as ISCE is concerned, is user selectable.  In this example it is used, as a convenience to the user, to document the ISCE application, named insarApp.py, for which it is meant to provide inputs; it could have been named <foo> and insarApp.py would have been equally happy provided that the closing tag were </foo>.  \n",
    "\n",
    "The next tag  is <component name=\"insar\">.  Its closing tag </component> is located at the penultimate line of the file (one line above the </insar> tag). The name of this tag is component and it has an attribute called name with value “insarApp”. The component tags bound a collection of information that is used by a computational element within ISCE that has the name specified by the name attribute.   The name “insarApp”  in the first component tag tells ISCE that the enclosed information correspond to a functional component in ISCE named “insarApp”, which in this case is actually the application that is run at the command line.  \n",
    "\n",
    "In general, component tags contain information in the form of other component tags or property tags, all of which can be nested to any required level. In this example the  insarApp component contains a property tag and two other component tags.\n",
    "\n",
    "The first tag we see in the insarApp component tag is the property tag with attribute name=“sensor name”. The property tag contains a value tag that contains the name of the sensor, ALOS in this case.  The next tag is a component tag with attribute name=”reference”. This tag contains a catalog tag containing  refernce.xml.  The catalog tag in general informs ISCE to look in the named file (reference.xml in this case) for the contents of the current tag.  The next component tag has the same structure with the catalog  tag containing a different file named secondary.xml."
   ]
  },
  {
   "cell_type": "markdown",
   "metadata": {
    "heading_collapsed": true,
    "hidden": true
   },
   "source": [
    "### Extra configuration parameters "
   ]
  },
  {
   "cell_type": "markdown",
   "metadata": {
    "hidden": true
   },
   "source": [
    "The input configuration file in this tutorial only included mandatory parameters including the reference and secondary images, which are enough to run the application. This means that the application is configured with default parameters hardwired in the code or computed during processing. \n",
    "For custom processing, user may want to set parameters in the input configuration file. In the following a few more parameters are shown that can be added to stripmapApp.xml. \n",
    "\n",
    "### regionOfInterest\n",
    "\n",
    "To specify a region of interest to process:\n",
    "\n",
    "```xml\n",
    "<property name=\"regionOfInterest\">[South, North, West, East]</property>\n",
    "```\n",
    "\n",
    "Example: \n",
    "\n",
    "```xml\n",
    "<property name=\"regionOfInterest\">[19.0, 19.9, -155.4, -154.7]</property>\n",
    "```\n",
    "\n",
    "Default: Full frame is processed.\n",
    "\n",
    "### range looks\n",
    "number of looks in range direction \n",
    "\n",
    "```xml\n",
    "<property name=\"range looks\">USER_INPUT</property>\n",
    "```\n",
    "\n",
    "Deafult: is computed based on the posting parameter.\n",
    "\n",
    "### azimuth looks\n",
    "number of looks in azimuth direction \n",
    "\n",
    "Deafult: is computed based on the posting parameter.\n",
    "\n",
    "\n",
    "### posting\n",
    "Interferogram posting in meters.\n",
    "\n",
    "```xml\n",
    "<property name=\"posting\">USER_INPUT</property>\n",
    "```\n",
    "\n",
    "Default: 30\n",
    "\n",
    "<br>\n",
    "<div class=\"alert alert-info\">\n",
    "<b>Note :</b> \n",
    "If \"range looks\" and \"azimuth looks\" have not been specified, then posting is used to compute them such that the interferogram is generated with a roughly square pixels size with each dimension close to the \"posting\" parameter.\n",
    "\n",
    "</div>\n",
    "\n",
    "### filter strength\n",
    "\n",
    "strength of the adaptive filter used for filtering the wrapped interferogram\n",
    "\n",
    "```xml\n",
    "<property name=\"filter strength\">USER_INPUT</property>\n",
    "```\n",
    "\n",
    "Default: 0.5\n",
    "\n",
    "\n",
    "### useHighResolutionDemOnly\n",
    "```xml\n",
    "<property name=\"useHighResolutionDemOnly\">True</property>\n",
    "```\n",
    "\n",
    "If True and a dem is not specified in input, it will only\n",
    "    download the SRTM highest resolution dem if it is available\n",
    "    and fill the missing portion with null values (typically -32767)\n",
    "\n",
    "Default: False\n",
    "\n",
    "### do unwrap\n",
    "\n",
    "To turn phase unwrapping off\n",
    "```xml\n",
    "<property name=\"do unwrap\">False</property>\n",
    "```\n",
    "\n",
    "Default: True\n",
    "\n",
    "\n",
    "### unwrapper name\n",
    "To choose the name of the phase unwrapping method. e.g., to choose \"snaphu\" for phase unwrapping\n",
    "```xml\n",
    "<property name=\"unwrapper name\">snaphu</property>\n",
    "```\n",
    "\n",
    "Default: \"icu\".\n",
    "\n",
    "\n",
    "\n",
    "\n",
    "### do rubbersheeting\n",
    "\n",
    "To turn on rubbersheeting (estimating azimuth offsets caused by strong ionospheric scentilation)\n",
    "\n",
    "```xml\n",
    "<property name=\"do rubbersheeting\">True</property>\n",
    "```\n",
    "Default : False\n",
    "\n",
    "### rubber sheet SNR Threshold\n",
    "\n",
    "```xml\n",
    "<property name=\"rubber sheet SNR Threshold\">USER_INPUT</property>\n",
    "```\n",
    "If \"do rubbersheeting\" is turned on, then this values is used to mask out azimuth offsets with SNR less that the input threshold. \n",
    "\n",
    "Default: 5\n",
    "\n",
    "### rubber sheet filter size\n",
    "the size of the median filter used for filtering the azimuth offsets\n",
    "\n",
    "```xml\n",
    "<property name=\"rubber sheet filter size\">USER_INPUT</property>\n",
    "```\n",
    "\n",
    "Default: 8\n",
    "\n",
    "### do denseoffsets\n",
    "turn on the dense offsets computation from cross correlation\n",
    "\n",
    "```xml\n",
    "<property name=\"do denseoffsets\">True</property>\n",
    "```\n",
    "\n",
    "Default: False\n",
    "\n",
    "<br>\n",
    "<div class=\"alert alert-info\">\n",
    "<b>Note :</b> \n",
    "\n",
    "If \"do rubbersheeting\" is turned on, then dense offsets computation is turned on regardless of the user input for \"do denseoffsets\"\n",
    "\n",
    "</div>\n",
    "\n",
    "### setting the dense offsets parameters \n",
    "\n",
    "```xml\n",
    "<property name=\"dense window width\">USER_INPUT</property>\n",
    "<property name=\"dense window height\">USER_INPUT</property>\n",
    "<property name=\"dense search width\">USER_INPUT</property>\n",
    "<property name=\"dense search height\">USER_INPUT</property>\n",
    "<property name=\"dense skip width\">USER_INPUT</property>\n",
    "<property name=\"dense skip height\">USER_INPUT</property>\n",
    "```\n",
    "\n",
    "Default values:\n",
    "<br>\n",
    "    dense window width  = 64 \n",
    "<br>\n",
    "    dense window height = 64\n",
    "<br>\n",
    "    dense search width  = 20\n",
    "<br>\n",
    "    dense search height = 20\n",
    "<br>\n",
    "    dense skip width    = 32\n",
    "<br>\n",
    "    dense skip height   = 32\n",
    "\n",
    "\n",
    "### geocode list\n",
    "\n",
    "List of products to be geocoded.\n",
    "```xml\n",
    "<property name=\"geocode list\">\"a list of files to geocode\">\n",
    "```\n",
    "Default: multilooked, filtered wrapped and unwrapped interferograms, coherence, ionospehric phase\n",
    "\n",
    "### offset geocode list\n",
    "List of offset-specific files to geocode\n",
    "```xml\n",
    "<property name=\"offset geocode list\">\"a list of offset files to geocode\">\n",
    "```\n",
    "\n",
    "\n",
    "### do split spectrum\n",
    "\n",
    "turn on split spectrum \n",
    "\n",
    "```xml\n",
    "<property name=\"do split spectrum\">True</property>\n",
    "```\n",
    "\n",
    "Default: False\n",
    "\n",
    "### do dispersive\n",
    "turn on disperive phase estimation\n",
    "\n",
    "```xml\n",
    "<property name=\"do dispersive\">True</property>\n",
    "```\n",
    "\n",
    "Default: False\n",
    "\n",
    "<br>\n",
    "<div class=\"alert alert-info\">\n",
    "<b>Note :</b> \n",
    "\n",
    "By turning on \"do dispersive\", the user input for \"do split spectrum\" is ignored and the split spectrum will be turned on as it is needed for dispersive phase estimation. \n",
    "\n",
    "</div>\n",
    "\n",
    "\n",
    "### control the filter kernel for filtering the dispersive phase  \n",
    "```xml\n",
    "<property name=\"dispersive filter kernel x-size\">800</property>\n",
    "<property name=\"dispersive filter kernel y-size\">800</property>\n",
    "<property name=\"dispersive filter kernel sigma_x\">100</property>\n",
    "<property name=\"dispersive filter kernel sigma_y\">100</property>\n",
    "<property name=\"dispersive filter kernel rotation\">0</property>\n",
    "<property name=\"dispersive filter number of iterations\">5</property>\n",
    "<property name=\"dispersive filter mask type\">coherence</property>\n",
    "<property name=\"dispersive filter coherence threshold\">0.6</property>\n",
    "    \n",
    "```    \n",
    "\n"
   ]
  },
  {
   "cell_type": "markdown",
   "metadata": {
    "heading_collapsed": true,
    "hidden": true
   },
   "source": [
    "### processing data from other stripmap sensors"
   ]
  },
  {
   "cell_type": "markdown",
   "metadata": {
    "hidden": true
   },
   "source": [
    "stripmapApp.py is able to process the stripmap data from the following sensors. So far it has been sucessfully tested on the following sensors: \n",
    "    <br>\n",
    "    ALOS1 (Raw and SLC)\n",
    "    ALOS2 (SLC, one frame)\n",
    "    COSMO_SkyMed (Raw and SLC)\n",
    "    ERS\n",
    "    ENVISAT ()\n",
    "    Radarsat-1\n",
    "    Radarsat-2\n",
    "    TerraSARX\n",
    "    TanDEMX\n",
    "    Sentinel1\n",
    "    \n",
    "    \n",
    "    envisat_slc\n",
    "    \n",
    "    \n",
    "### Sample input data xml for different sensors:\n",
    "\n",
    "#### Envisat: \n",
    "```xml\n",
    "\n",
    "<component name=\"reference\">\n",
    "    <property name=\"IMAGEFILE\">data/ASA_IMS_1PNESA20050519_140259_000000172037_00239_16826_0000.N1</property>\n",
    "    <property name=\"INSTRUMENT_DIRECTORY\">/u/k-data/agram/sat_metadata/ENV/INS_DIR</property>\n",
    "    <property name=\"ORBIT_DIRECTORY\">/u/k-data/agram/sat_metadata/ENV/Doris/VOR</property>\n",
    "    <property name=\"OUTPUT\">\n",
    "        20050519\n",
    "    </property>\n",
    "</component>\n",
    "\n",
    "```\n",
    "\n",
    "<br>\n",
    "<div class=\"alert alert-info\">\n",
    "<b>Note :</b> \n",
    "Note that for processing the ENVISAT data a directory that contains the orbits is required. \n",
    "</div>\n",
    "\n",
    "\n",
    "### Sentinel-1 stripmap:\n",
    "```xml\n",
    "    <component name=\"reference\">\n",
    "      <property name=\"orbit directory\">/u/data/sat_metadata/S1/aux_poeorb/</property>\n",
    "      <property name=\"output\">20151024</property>\n",
    "      <property name=\"safe\">/u/data/S1A_S1_SLC__1SSV_20151024T234201_20151024T234230_008301_00BB43_068C.zip</property>\n",
    "    </component>\n",
    "    <component name=\"secondary\">\n",
    "      <property name=\"orbit directory\">/u/k-raw/sat_metadata/S1/aux_poeorb/</property>\n",
    "      <property name=\"output\">20150930</property>\n",
    "      <property name=\"safe\">/u/data/S1A_S1_SLC__1SSV_20150930T234200_20150930T234230_007951_00B1CC_121C.zip</property>\n",
    "    </component>\n",
    "```\n",
    "\n",
    "<br>\n",
    "<div class=\"alert alert-info\">\n",
    "<b>Note :</b> \n",
    "Note that for processing the Sentinel-1 data a directory that contains the orbits is required. \n",
    "</div>\n",
    "\n",
    "### ALOS2 SLC\n",
    "```xml\n",
    "<component>\n",
    "    <property name=\"IMAGEFILE\">\n",
    "        <value>data/20141114/ALOS2025732920-141114/IMG-HH-ALOS2025732920-141114-UBSL1.1__D</value>\n",
    "    </property>\n",
    "    <property name=\"LEADERFILE\">\n",
    "        <value>data/20141114/ALOS2025732920-141114/LED-ALOS2025732920-141114-UBSL1.1__D</value>\n",
    "    </property>\n",
    "    <property name=\"OUTPUT\">\n",
    "        <value>20141114</value>\n",
    "    </property>\n",
    "</component>\n",
    "```\n",
    "\n",
    "### ALOS1 raw data\n",
    "``` xml\n",
    "<component>\n",
    "    <property name=\"IMAGEFILE\">\n",
    "       <value>[data/20080822/ALPSRP137311060-L1.0/IMG-HH-ALPSRP137311060-H1.0__D]</value>\n",
    "    </property>\n",
    "    <property name=\"LEADERFILE\">\n",
    "        <value>[data/20080822/ALPSRP137311060-L1.0/LED-ALPSRP137311060-H1.0__D]</value>\n",
    "    </property>\n",
    "    <property name=\"OUTPUT\">\n",
    "        <value>20080822</value>\n",
    "    </property>\n",
    "</component>\n",
    "```\n",
    "\n",
    "### CosmoSkyMed raw or SLC data\n",
    "\n",
    "```xml\n",
    "<component name=\"reference\">\n",
    "    <property name=\"HDF5\">data/CSKS3_RAW_B_HI_03_HH_RD_SF_20111007021527_20111007021534.h5</property>\n",
    "    <property name=\"OUTPUT\">\n",
    "        20111007\n",
    "    </property>\n",
    "</component>\n",
    "\n",
    "```\n",
    "\n",
    "### TerraSAR-X and TanDEM-X\n",
    "\n",
    "```xml\n",
    "<component name=\"reference\">\n",
    "    <property name=\"xml\">PATH_TO_TSX_DATA_XML</property>\n",
    "    <property name=\"OUTPUT\">OUTPUT_NAME</property> \n",
    "</component>    \n",
    "```\n"
   ]
  },
  {
   "cell_type": "markdown",
   "metadata": {
    "hidden": true
   },
   "source": [
    "### Using ISCE as a python library"
   ]
  },
  {
   "cell_type": "markdown",
   "metadata": {
    "hidden": true
   },
   "source": [
    "ISCE can be used a python library. Users can develop their own workflows within ISCE framework. Here are few simple examples where we try to call isce modules:\n"
   ]
  },
  {
   "cell_type": "markdown",
   "metadata": {
    "hidden": true
   },
   "source": [
    "#### Example 1: (extract metadata, range and azimuth pixel size)"
   ]
  },
  {
   "cell_type": "code",
   "execution_count": null,
   "metadata": {
    "hidden": true,
    "scrolled": true
   },
   "outputs": [],
   "source": [
    "stObj = St()\n",
    "stObj.configure()\n",
    "frame = stObj.loadProduct(\"20080822_slc.xml\")\n",
    "print(\"Wavelength = {0} m\".format(frame.radarWavelegth))\n",
    "print(\"Slant Range Pixel Size = {0} m\".format(frame.instrument.rangePixelSize))\n",
    "\n",
    "#For azimuth pixel size we need to multiply azimuth time interval by the platform velocity along the track\n",
    "\n",
    "# the acquisition time at the middle of the scene\n",
    "t_mid = frame.sensingMid\n",
    "\n",
    "#get the orbit for t_mid\n",
    "st_mid=frame.orbit.interpolateOrbit(t_mid)\n",
    "\n",
    "# platform velocity\n",
    "Vs = st_mid.getScalarVelocity()\n",
    "\n",
    "# pulse repitition frequency\n",
    "prf = frame.instrument.PRF\n",
    "\n",
    "#Azimuth time interval \n",
    "ATI = 1.0/prf\n",
    "\n",
    "#Azimuth Pixel size\n",
    "az_pixel_size = ATI*Vs\n",
    "print(\"Azimuth Pixel Size = {0} m\".format(az_pixel_size))\n",
    "\n",
    "\n",
    "\n"
   ]
  },
  {
   "cell_type": "markdown",
   "metadata": {
    "hidden": true
   },
   "source": [
    "#### Example 2: compute ground range pixels size"
   ]
  },
  {
   "cell_type": "code",
   "execution_count": null,
   "metadata": {
    "hidden": true,
    "scrolled": true
   },
   "outputs": [],
   "source": [
    "r0 = frame.startingRange\n",
    "rmax = frame.getFarRange()\n",
    "rng =(r0+rmax)/2\n",
    "\n",
    "elp = Planet(pname='Earth').ellipsoid\n",
    "tmid = frame.sensingMid\n",
    "\n",
    "sv = frame.orbit.interpolateOrbit( tmid, method='hermite') #.getPosition()\n",
    "llh = elp.xyz_to_llh(sv.getPosition())\n",
    "\n",
    "\n",
    "hdg = frame.orbit.getENUHeading(tmid)\n",
    "elp.setSCH(llh[0], llh[1], hdg)\n",
    "sch, vsch = elp.xyzdot_to_schdot(sv.getPosition(), sv.getVelocity())\n",
    "\n",
    "Re = elp.pegRadCur\n",
    "H = sch[2]\n",
    "cos_beta_e = (Re**2 + (Re + H)**2 -rng**2)/(2*Re*(Re+H))\n",
    "sin_bet_e = np.sqrt(1 - cos_beta_e**2)\n",
    "sin_theta_i = sin_bet_e*(Re + H)/rng\n",
    "print(\"incidence angle at the middle of the swath: \", np.arcsin(sin_theta_i)*180.0/np.pi)\n",
    "groundRangeRes = frame.instrument.rangePixelSize/sin_theta_i\n",
    "print(\"Ground range pixel size: {0} m \".format(groundRangeRes))\n"
   ]
  },
  {
   "cell_type": "markdown",
   "metadata": {
    "hidden": true
   },
   "source": [
    "<br>\n",
    "<div class=\"alert alert-info\">\n",
    "<b>Note :</b> \n",
    "One can easily get the incidence angle from the los.rdr file inside geometry folder. Even without opening the file, here is a way to get the statistics and the average value of the incidence angle:  gdalinfo geometry/los.rdr -stats\n",
    "</div>"
   ]
  },
  {
   "cell_type": "code",
   "execution_count": null,
   "metadata": {
    "hidden": true,
    "scrolled": true
   },
   "outputs": [],
   "source": []
  }
 ],
 "metadata": {
  "kernelspec": {
   "display_name": "unavco [conda env:.local-unavco]",
   "language": "python",
   "name": "conda-env-.local-unavco-py"
  },
  "language_info": {
   "codemirror_mode": {
    "name": "ipython",
    "version": 3
   },
   "file_extension": ".py",
   "mimetype": "text/x-python",
   "name": "python",
   "nbconvert_exporter": "python",
   "pygments_lexer": "ipython3",
   "version": "3.8.12"
  }
 },
 "nbformat": 4,
 "nbformat_minor": 2
}
